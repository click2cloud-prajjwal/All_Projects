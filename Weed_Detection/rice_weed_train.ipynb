{
 "cells": [
  {
   "cell_type": "markdown",
   "metadata": {},
   "source": [
    "train"
   ]
  },
  {
   "cell_type": "code",
   "execution_count": null,
   "metadata": {},
   "outputs": [],
   "source": [
    "from ultralytics import YOLO\n",
    "\n",
    "# Load YOLOv11 model (default pretrained)\n",
    "model = YOLO(\"/home/ubuntu/YOLO_weed/runs/detect/train/weights/best.pt\")  # 'l' = large model, change to 'm' or 's' if needed\n",
    "\n",
    "# Train the model\n",
    "model.train(\n",
    "    data=\"/home/ubuntu/YOLO_weed/weed_bbox/data.yaml\",  # Dataset configuration\n",
    "    epochs=50,  # Reduce if overfitting\n",
    "    batch=8,  # Optimized for 12GB GPU\n",
    "    imgsz=640,  # Adjust to 512 if running out of memory\n",
    "    device=\"cuda\",  # Use GPU\n",
    "    workers=4,  # Number of CPU workers for data loading\n",
    "    patience=10,  # Stops training if no improvement in 10 epochs\n",
    "    optimizer=\"AdamW\",  # Better convergence than SGD\n",
    "    lr0=0.0001,  # Initial learning rate\n",
    "    weight_decay=0.0005,  # Regularization\n",
    "    amp=True,  # Enable mixed precision for better performance\n",
    "    dropout=0.2,\n",
    "    resume=True  # Helps generalization\n",
    ")\n"
   ]
  },
  {
   "cell_type": "markdown",
   "metadata": {},
   "source": [
    "training script (tunable parameters)"
   ]
  },
  {
   "cell_type": "code",
   "execution_count": null,
   "metadata": {},
   "outputs": [],
   "source": [
    "from ultralytics import YOLO\n",
    "\n",
    "model = YOLO(\"/home/ubuntu/YOLO_weed/runs/detect/train4/weights/last.pt\")\n",
    "\n",
    "model.train(\n",
    "    data=\"/home/ubuntu/YOLO_weed/weed_bbox/data.yaml\",\n",
    "    epochs=150,               # Adjusted for 1.5 hour timeframe\n",
    "    batch=8,                 \n",
    "    imgsz=640,              \n",
    "    device=\"cuda\",\n",
    "    workers=2,\n",
    "    patience=15,            # Adjusted for shorter training\n",
    "    optimizer=\"AdamW\",\n",
    "    lr0=0.0001,            \n",
    "    weight_decay=0.0003,    \n",
    "    amp=True,              \n",
    "    dropout=0.2,\n",
    "    save_period=5,          # Save more frequently given shorter training\n",
    "    cos_lr=True,           \n",
    "    augment=True,          \n",
    "    mosaic=1.0,           \n",
    "    flipud=0.5,           \n",
    "    fliplr=0.5,           \n",
    "    hsv_h=0.015,         \n",
    "    hsv_s=0.7,           \n",
    "    hsv_v=0.4,\n",
    "    resume=True           \n",
    ")"
   ]
  },
  {
   "cell_type": "markdown",
   "metadata": {},
   "source": [
    "test set predict"
   ]
  },
  {
   "cell_type": "code",
   "execution_count": null,
   "metadata": {},
   "outputs": [],
   "source": [
    "from ultralytics import YOLO\n",
    "\n",
    "model = YOLO(\"/home/ubuntu/YOLO_weed/runs/detect/train/weights/best.pt\")  # Load your trained model\n",
    "results = model.val(source=\"/home/ubuntu/YOLO_weed/weed_bbox/test\", conf=0.25, save=True)  # For image/video"
   ]
  },
  {
   "cell_type": "markdown",
   "metadata": {},
   "source": [
    "export to onnx"
   ]
  },
  {
   "cell_type": "code",
   "execution_count": null,
   "metadata": {},
   "outputs": [],
   "source": [
    "from ultralytics import YOLO\n",
    "\n",
    "# Load the model\n",
    "model = YOLO(\"/home/ubuntu/YOLO_weed/runs/detect/train/weights/best.pt\")\n",
    "\n",
    "# Export the model\n",
    "model.export(format=\"onnx\",        # Export to ONNX format\n",
    "            imgsz=640,            # Image size used in training\n",
    "            half=True,            # Use FP16 for faster inference\n",
    "            device=\"cpu\",         # Export for CPU inference\n",
    "            simplify=True) "
   ]
  },
  {
   "cell_type": "markdown",
   "metadata": {},
   "source": [
    "train (updated-parameters)"
   ]
  },
  {
   "cell_type": "code",
   "execution_count": null,
   "metadata": {},
   "outputs": [],
   "source": [
    "from ultralytics import YOLO\n",
    "\n",
    "model = YOLO(\"/home/ubuntu/YOLO_weed/runs/detect/train4/weights/last.pt\")\n",
    "\n",
    "model.train(\n",
    "    data=\"/home/ubuntu/YOLO_weed/weed_bbox/data.yaml\",\n",
    "    epochs=150,\n",
    "    batch=4,              # Reduced batch size\n",
    "    imgsz=512,            # Reduced image size\n",
    "    device=\"cuda\",\n",
    "    workers=2,\n",
    "    patience=15,\n",
    "    optimizer=\"AdamW\",\n",
    "    lr0=0.0001,\n",
    "    weight_decay=0.0003,\n",
    "    amp=True,             # Keep mixed precision\n",
    "    dropout=0.2,\n",
    "    save_period=5,\n",
    "    cos_lr=True,\n",
    "    augment=True,\n",
    "    mosaic=0.5,           # Reduced mosaic augmentation\n",
    "    flipud=0.2,           # Reduced flip probability\n",
    "    fliplr=0.2,\n",
    "    hsv_h=0.015,\n",
    "    hsv_s=0.7,\n",
    "    hsv_v=0.4,\n",
    "    resume=True          # Use gradient accumulation\n",
    ")\n"
   ]
  },
  {
   "cell_type": "markdown",
   "metadata": {},
   "source": [
    "Predict"
   ]
  },
  {
   "cell_type": "code",
   "execution_count": null,
   "metadata": {},
   "outputs": [],
   "source": [
    "from ultralytics import YOLO\n",
    "\n",
    "# Load a pretrained YOLO11n model\n",
    "model = YOLO(\"/home/ubuntu/YOLO_weed/best (6).pt\")\n",
    "\n",
    "# Define path to the image file\n",
    "source = \"/home/ubuntu/YOLO_weed/test_img/stock-photo-the-soft-focus-of-the-sedge-umbrella-plant-umbrella-sedge-cyperaceae-weed-in-paddy-rice-field-1134435293.jpg\"\n",
    "\n",
    "# Run inference on the source\n",
    "results = model(source, save=True)  # list of Results objects"
   ]
  }
 ],
 "metadata": {
  "kernelspec": {
   "display_name": "Python 3",
   "language": "python",
   "name": "python3"
  },
  "language_info": {
   "codemirror_mode": {
    "name": "ipython",
    "version": 3
   },
   "file_extension": ".py",
   "mimetype": "text/x-python",
   "name": "python",
   "nbconvert_exporter": "python",
   "pygments_lexer": "ipython3",
   "version": "3.9.18"
  }
 },
 "nbformat": 4,
 "nbformat_minor": 2
}
