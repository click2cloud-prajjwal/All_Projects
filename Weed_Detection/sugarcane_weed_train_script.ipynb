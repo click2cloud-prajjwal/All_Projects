{
  "cells": [
    {
      "cell_type": "code",
      "execution_count": 1,
      "metadata": {
        "colab": {
          "base_uri": "https://localhost:8080/"
        },
        "collapsed": true,
        "id": "a1rH9NZpKdTh",
        "outputId": "73b4e408-b0a6-4c04-ffd9-db386b38559b"
      },
      "outputs": [
        {
          "name": "stdout",
          "output_type": "stream",
          "text": [
            "Collecting roboflow\n",
            "  Downloading roboflow-1.1.61-py3-none-any.whl.metadata (9.7 kB)\n",
            "Requirement already satisfied: certifi in /usr/local/lib/python3.11/dist-packages (from roboflow) (2025.1.31)\n",
            "Collecting idna==3.7 (from roboflow)\n",
            "  Downloading idna-3.7-py3-none-any.whl.metadata (9.9 kB)\n",
            "Requirement already satisfied: cycler in /usr/local/lib/python3.11/dist-packages (from roboflow) (0.12.1)\n",
            "Requirement already satisfied: kiwisolver>=1.3.1 in /usr/local/lib/python3.11/dist-packages (from roboflow) (1.4.8)\n",
            "Requirement already satisfied: matplotlib in /usr/local/lib/python3.11/dist-packages (from roboflow) (3.10.0)\n",
            "Requirement already satisfied: numpy>=1.18.5 in /usr/local/lib/python3.11/dist-packages (from roboflow) (2.0.2)\n",
            "Collecting opencv-python-headless==4.10.0.84 (from roboflow)\n",
            "  Downloading opencv_python_headless-4.10.0.84-cp37-abi3-manylinux_2_17_x86_64.manylinux2014_x86_64.whl.metadata (20 kB)\n",
            "Requirement already satisfied: Pillow>=7.1.2 in /usr/local/lib/python3.11/dist-packages (from roboflow) (11.1.0)\n",
            "Collecting pillow-heif>=0.18.0 (from roboflow)\n",
            "  Downloading pillow_heif-0.22.0-cp311-cp311-manylinux_2_17_x86_64.manylinux2014_x86_64.whl.metadata (9.6 kB)\n",
            "Requirement already satisfied: python-dateutil in /usr/local/lib/python3.11/dist-packages (from roboflow) (2.8.2)\n",
            "Collecting python-dotenv (from roboflow)\n",
            "  Downloading python_dotenv-1.1.0-py3-none-any.whl.metadata (24 kB)\n",
            "Requirement already satisfied: requests in /usr/local/lib/python3.11/dist-packages (from roboflow) (2.32.3)\n",
            "Requirement already satisfied: six in /usr/local/lib/python3.11/dist-packages (from roboflow) (1.17.0)\n",
            "Requirement already satisfied: urllib3>=1.26.6 in /usr/local/lib/python3.11/dist-packages (from roboflow) (2.3.0)\n",
            "Requirement already satisfied: tqdm>=4.41.0 in /usr/local/lib/python3.11/dist-packages (from roboflow) (4.67.1)\n",
            "Requirement already satisfied: PyYAML>=5.3.1 in /usr/local/lib/python3.11/dist-packages (from roboflow) (6.0.2)\n",
            "Requirement already satisfied: requests-toolbelt in /usr/local/lib/python3.11/dist-packages (from roboflow) (1.0.0)\n",
            "Collecting filetype (from roboflow)\n",
            "  Downloading filetype-1.2.0-py2.py3-none-any.whl.metadata (6.5 kB)\n",
            "Requirement already satisfied: contourpy>=1.0.1 in /usr/local/lib/python3.11/dist-packages (from matplotlib->roboflow) (1.3.2)\n",
            "Requirement already satisfied: fonttools>=4.22.0 in /usr/local/lib/python3.11/dist-packages (from matplotlib->roboflow) (4.57.0)\n",
            "Requirement already satisfied: packaging>=20.0 in /usr/local/lib/python3.11/dist-packages (from matplotlib->roboflow) (24.2)\n",
            "Requirement already satisfied: pyparsing>=2.3.1 in /usr/local/lib/python3.11/dist-packages (from matplotlib->roboflow) (3.2.3)\n",
            "Requirement already satisfied: charset-normalizer<4,>=2 in /usr/local/lib/python3.11/dist-packages (from requests->roboflow) (3.4.1)\n",
            "Downloading roboflow-1.1.61-py3-none-any.whl (85 kB)\n",
            "\u001b[2K   \u001b[90m━━━━━━━━━━━━━━━━━━━━━━━━━━━━━━━━━━━━━━━━\u001b[0m \u001b[32m85.2/85.2 kB\u001b[0m \u001b[31m8.8 MB/s\u001b[0m eta \u001b[36m0:00:00\u001b[0m\n",
            "\u001b[?25hDownloading idna-3.7-py3-none-any.whl (66 kB)\n",
            "\u001b[2K   \u001b[90m━━━━━━━━━━━━━━━━━━━━━━━━━━━━━━━━━━━━━━━━\u001b[0m \u001b[32m66.8/66.8 kB\u001b[0m \u001b[31m6.7 MB/s\u001b[0m eta \u001b[36m0:00:00\u001b[0m\n",
            "\u001b[?25hDownloading opencv_python_headless-4.10.0.84-cp37-abi3-manylinux_2_17_x86_64.manylinux2014_x86_64.whl (49.9 MB)\n",
            "\u001b[2K   \u001b[90m━━━━━━━━━━━━━━━━━━━━━━━━━━━━━━━━━━━━━━━━\u001b[0m \u001b[32m49.9/49.9 MB\u001b[0m \u001b[31m16.2 MB/s\u001b[0m eta \u001b[36m0:00:00\u001b[0m\n",
            "\u001b[?25hDownloading pillow_heif-0.22.0-cp311-cp311-manylinux_2_17_x86_64.manylinux2014_x86_64.whl (7.8 MB)\n",
            "\u001b[2K   \u001b[90m━━━━━━━━━━━━━━━━━━━━━━━━━━━━━━━━━━━━━━━━\u001b[0m \u001b[32m7.8/7.8 MB\u001b[0m \u001b[31m120.8 MB/s\u001b[0m eta \u001b[36m0:00:00\u001b[0m\n",
            "\u001b[?25hDownloading filetype-1.2.0-py2.py3-none-any.whl (19 kB)\n",
            "Downloading python_dotenv-1.1.0-py3-none-any.whl (20 kB)\n",
            "Installing collected packages: filetype, python-dotenv, pillow-heif, opencv-python-headless, idna, roboflow\n",
            "  Attempting uninstall: opencv-python-headless\n",
            "    Found existing installation: opencv-python-headless 4.11.0.86\n",
            "    Uninstalling opencv-python-headless-4.11.0.86:\n",
            "      Successfully uninstalled opencv-python-headless-4.11.0.86\n",
            "  Attempting uninstall: idna\n",
            "    Found existing installation: idna 3.10\n",
            "    Uninstalling idna-3.10:\n",
            "      Successfully uninstalled idna-3.10\n",
            "Successfully installed filetype-1.2.0 idna-3.7 opencv-python-headless-4.10.0.84 pillow-heif-0.22.0 python-dotenv-1.1.0 roboflow-1.1.61\n",
            "loading Roboflow workspace...\n",
            "loading Roboflow project...\n"
          ]
        },
        {
          "name": "stderr",
          "output_type": "stream",
          "text": [
            "Downloading Dataset Version Zip in weed-mini-SG-2 to yolov9:: 100%|██████████| 4571/4571 [00:00<00:00, 13396.03it/s]"
          ]
        },
        {
          "name": "stdout",
          "output_type": "stream",
          "text": [
            "\n"
          ]
        },
        {
          "name": "stderr",
          "output_type": "stream",
          "text": [
            "\n",
            "Extracting Dataset Version Zip to weed-mini-SG-2 in yolov9:: 100%|██████████| 84/84 [00:00<00:00, 4221.49it/s]\n"
          ]
        }
      ],
      "source": [
        "!pip install roboflow\n",
        "\n",
        "from roboflow import Roboflow\n",
        "rf = Roboflow(api_key=\"mTRyTpsAaifEWnr4jfeK\")\n",
        "project = rf.workspace(\"diseasepaddy\").project(\"weed-mini-sg\")\n",
        "version = project.version(2)\n",
        "dataset = version.download(\"yolov9\")\n"
      ]
    },
    {
      "cell_type": "code",
      "execution_count": 2,
      "metadata": {
        "colab": {
          "base_uri": "https://localhost:8080/"
        },
        "collapsed": true,
        "id": "ZNzDyMUoKf3I",
        "outputId": "5e320d94-ea89-47d8-ba3b-65df101cdb24"
      },
      "outputs": [
        {
          "name": "stdout",
          "output_type": "stream",
          "text": [
            "Collecting ultralytics\n",
            "  Downloading ultralytics-8.3.112-py3-none-any.whl.metadata (37 kB)\n",
            "Requirement already satisfied: numpy<=2.1.1,>=1.23.0 in /usr/local/lib/python3.11/dist-packages (from ultralytics) (2.0.2)\n",
            "Requirement already satisfied: matplotlib>=3.3.0 in /usr/local/lib/python3.11/dist-packages (from ultralytics) (3.10.0)\n",
            "Requirement already satisfied: opencv-python>=4.6.0 in /usr/local/lib/python3.11/dist-packages (from ultralytics) (4.11.0.86)\n",
            "Requirement already satisfied: pillow>=7.1.2 in /usr/local/lib/python3.11/dist-packages (from ultralytics) (11.1.0)\n",
            "Requirement already satisfied: pyyaml>=5.3.1 in /usr/local/lib/python3.11/dist-packages (from ultralytics) (6.0.2)\n",
            "Requirement already satisfied: requests>=2.23.0 in /usr/local/lib/python3.11/dist-packages (from ultralytics) (2.32.3)\n",
            "Requirement already satisfied: scipy>=1.4.1 in /usr/local/lib/python3.11/dist-packages (from ultralytics) (1.14.1)\n",
            "Requirement already satisfied: torch>=1.8.0 in /usr/local/lib/python3.11/dist-packages (from ultralytics) (2.6.0+cu124)\n",
            "Requirement already satisfied: torchvision>=0.9.0 in /usr/local/lib/python3.11/dist-packages (from ultralytics) (0.21.0+cu124)\n",
            "Requirement already satisfied: tqdm>=4.64.0 in /usr/local/lib/python3.11/dist-packages (from ultralytics) (4.67.1)\n",
            "Requirement already satisfied: psutil in /usr/local/lib/python3.11/dist-packages (from ultralytics) (5.9.5)\n",
            "Requirement already satisfied: py-cpuinfo in /usr/local/lib/python3.11/dist-packages (from ultralytics) (9.0.0)\n",
            "Requirement already satisfied: pandas>=1.1.4 in /usr/local/lib/python3.11/dist-packages (from ultralytics) (2.2.2)\n",
            "Requirement already satisfied: seaborn>=0.11.0 in /usr/local/lib/python3.11/dist-packages (from ultralytics) (0.13.2)\n",
            "Collecting ultralytics-thop>=2.0.0 (from ultralytics)\n",
            "  Downloading ultralytics_thop-2.0.14-py3-none-any.whl.metadata (9.4 kB)\n",
            "Requirement already satisfied: contourpy>=1.0.1 in /usr/local/lib/python3.11/dist-packages (from matplotlib>=3.3.0->ultralytics) (1.3.2)\n",
            "Requirement already satisfied: cycler>=0.10 in /usr/local/lib/python3.11/dist-packages (from matplotlib>=3.3.0->ultralytics) (0.12.1)\n",
            "Requirement already satisfied: fonttools>=4.22.0 in /usr/local/lib/python3.11/dist-packages (from matplotlib>=3.3.0->ultralytics) (4.57.0)\n",
            "Requirement already satisfied: kiwisolver>=1.3.1 in /usr/local/lib/python3.11/dist-packages (from matplotlib>=3.3.0->ultralytics) (1.4.8)\n",
            "Requirement already satisfied: packaging>=20.0 in /usr/local/lib/python3.11/dist-packages (from matplotlib>=3.3.0->ultralytics) (24.2)\n",
            "Requirement already satisfied: pyparsing>=2.3.1 in /usr/local/lib/python3.11/dist-packages (from matplotlib>=3.3.0->ultralytics) (3.2.3)\n",
            "Requirement already satisfied: python-dateutil>=2.7 in /usr/local/lib/python3.11/dist-packages (from matplotlib>=3.3.0->ultralytics) (2.8.2)\n",
            "Requirement already satisfied: pytz>=2020.1 in /usr/local/lib/python3.11/dist-packages (from pandas>=1.1.4->ultralytics) (2025.2)\n",
            "Requirement already satisfied: tzdata>=2022.7 in /usr/local/lib/python3.11/dist-packages (from pandas>=1.1.4->ultralytics) (2025.2)\n",
            "Requirement already satisfied: charset-normalizer<4,>=2 in /usr/local/lib/python3.11/dist-packages (from requests>=2.23.0->ultralytics) (3.4.1)\n",
            "Requirement already satisfied: idna<4,>=2.5 in /usr/local/lib/python3.11/dist-packages (from requests>=2.23.0->ultralytics) (3.7)\n",
            "Requirement already satisfied: urllib3<3,>=1.21.1 in /usr/local/lib/python3.11/dist-packages (from requests>=2.23.0->ultralytics) (2.3.0)\n",
            "Requirement already satisfied: certifi>=2017.4.17 in /usr/local/lib/python3.11/dist-packages (from requests>=2.23.0->ultralytics) (2025.1.31)\n",
            "Requirement already satisfied: filelock in /usr/local/lib/python3.11/dist-packages (from torch>=1.8.0->ultralytics) (3.18.0)\n",
            "Requirement already satisfied: typing-extensions>=4.10.0 in /usr/local/lib/python3.11/dist-packages (from torch>=1.8.0->ultralytics) (4.13.2)\n",
            "Requirement already satisfied: networkx in /usr/local/lib/python3.11/dist-packages (from torch>=1.8.0->ultralytics) (3.4.2)\n",
            "Requirement already satisfied: jinja2 in /usr/local/lib/python3.11/dist-packages (from torch>=1.8.0->ultralytics) (3.1.6)\n",
            "Requirement already satisfied: fsspec in /usr/local/lib/python3.11/dist-packages (from torch>=1.8.0->ultralytics) (2025.3.2)\n",
            "Collecting nvidia-cuda-nvrtc-cu12==12.4.127 (from torch>=1.8.0->ultralytics)\n",
            "  Downloading nvidia_cuda_nvrtc_cu12-12.4.127-py3-none-manylinux2014_x86_64.whl.metadata (1.5 kB)\n",
            "Collecting nvidia-cuda-runtime-cu12==12.4.127 (from torch>=1.8.0->ultralytics)\n",
            "  Downloading nvidia_cuda_runtime_cu12-12.4.127-py3-none-manylinux2014_x86_64.whl.metadata (1.5 kB)\n",
            "Collecting nvidia-cuda-cupti-cu12==12.4.127 (from torch>=1.8.0->ultralytics)\n",
            "  Downloading nvidia_cuda_cupti_cu12-12.4.127-py3-none-manylinux2014_x86_64.whl.metadata (1.6 kB)\n",
            "Collecting nvidia-cudnn-cu12==9.1.0.70 (from torch>=1.8.0->ultralytics)\n",
            "  Downloading nvidia_cudnn_cu12-9.1.0.70-py3-none-manylinux2014_x86_64.whl.metadata (1.6 kB)\n",
            "Collecting nvidia-cublas-cu12==12.4.5.8 (from torch>=1.8.0->ultralytics)\n",
            "  Downloading nvidia_cublas_cu12-12.4.5.8-py3-none-manylinux2014_x86_64.whl.metadata (1.5 kB)\n",
            "Collecting nvidia-cufft-cu12==11.2.1.3 (from torch>=1.8.0->ultralytics)\n",
            "  Downloading nvidia_cufft_cu12-11.2.1.3-py3-none-manylinux2014_x86_64.whl.metadata (1.5 kB)\n",
            "Collecting nvidia-curand-cu12==10.3.5.147 (from torch>=1.8.0->ultralytics)\n",
            "  Downloading nvidia_curand_cu12-10.3.5.147-py3-none-manylinux2014_x86_64.whl.metadata (1.5 kB)\n",
            "Collecting nvidia-cusolver-cu12==11.6.1.9 (from torch>=1.8.0->ultralytics)\n",
            "  Downloading nvidia_cusolver_cu12-11.6.1.9-py3-none-manylinux2014_x86_64.whl.metadata (1.6 kB)\n",
            "Collecting nvidia-cusparse-cu12==12.3.1.170 (from torch>=1.8.0->ultralytics)\n",
            "  Downloading nvidia_cusparse_cu12-12.3.1.170-py3-none-manylinux2014_x86_64.whl.metadata (1.6 kB)\n",
            "Requirement already satisfied: nvidia-cusparselt-cu12==0.6.2 in /usr/local/lib/python3.11/dist-packages (from torch>=1.8.0->ultralytics) (0.6.2)\n",
            "Requirement already satisfied: nvidia-nccl-cu12==2.21.5 in /usr/local/lib/python3.11/dist-packages (from torch>=1.8.0->ultralytics) (2.21.5)\n",
            "Requirement already satisfied: nvidia-nvtx-cu12==12.4.127 in /usr/local/lib/python3.11/dist-packages (from torch>=1.8.0->ultralytics) (12.4.127)\n",
            "Collecting nvidia-nvjitlink-cu12==12.4.127 (from torch>=1.8.0->ultralytics)\n",
            "  Downloading nvidia_nvjitlink_cu12-12.4.127-py3-none-manylinux2014_x86_64.whl.metadata (1.5 kB)\n",
            "Requirement already satisfied: triton==3.2.0 in /usr/local/lib/python3.11/dist-packages (from torch>=1.8.0->ultralytics) (3.2.0)\n",
            "Requirement already satisfied: sympy==1.13.1 in /usr/local/lib/python3.11/dist-packages (from torch>=1.8.0->ultralytics) (1.13.1)\n",
            "Requirement already satisfied: mpmath<1.4,>=1.1.0 in /usr/local/lib/python3.11/dist-packages (from sympy==1.13.1->torch>=1.8.0->ultralytics) (1.3.0)\n",
            "Requirement already satisfied: six>=1.5 in /usr/local/lib/python3.11/dist-packages (from python-dateutil>=2.7->matplotlib>=3.3.0->ultralytics) (1.17.0)\n",
            "Requirement already satisfied: MarkupSafe>=2.0 in /usr/local/lib/python3.11/dist-packages (from jinja2->torch>=1.8.0->ultralytics) (3.0.2)\n",
            "Downloading ultralytics-8.3.112-py3-none-any.whl (981 kB)\n",
            "\u001b[2K   \u001b[90m━━━━━━━━━━━━━━━━━━━━━━━━━━━━━━━━━━━━━━━━\u001b[0m \u001b[32m981.3/981.3 kB\u001b[0m \u001b[31m25.0 MB/s\u001b[0m eta \u001b[36m0:00:00\u001b[0m\n",
            "\u001b[?25hDownloading nvidia_cublas_cu12-12.4.5.8-py3-none-manylinux2014_x86_64.whl (363.4 MB)\n",
            "\u001b[2K   \u001b[90m━━━━━━━━━━━━━━━━━━━━━━━━━━━━━━━━━━━━━━━━\u001b[0m \u001b[32m363.4/363.4 MB\u001b[0m \u001b[31m3.9 MB/s\u001b[0m eta \u001b[36m0:00:00\u001b[0m\n",
            "\u001b[?25hDownloading nvidia_cuda_cupti_cu12-12.4.127-py3-none-manylinux2014_x86_64.whl (13.8 MB)\n",
            "\u001b[2K   \u001b[90m━━━━━━━━━━━━━━━━━━━━━━━━━━━━━━━━━━━━━━━━\u001b[0m \u001b[32m13.8/13.8 MB\u001b[0m \u001b[31m42.9 MB/s\u001b[0m eta \u001b[36m0:00:00\u001b[0m\n",
            "\u001b[?25hDownloading nvidia_cuda_nvrtc_cu12-12.4.127-py3-none-manylinux2014_x86_64.whl (24.6 MB)\n",
            "\u001b[2K   \u001b[90m━━━━━━━━━━━━━━━━━━━━━━━━━━━━━━━━━━━━━━━━\u001b[0m \u001b[32m24.6/24.6 MB\u001b[0m \u001b[31m96.9 MB/s\u001b[0m eta \u001b[36m0:00:00\u001b[0m\n",
            "\u001b[?25hDownloading nvidia_cuda_runtime_cu12-12.4.127-py3-none-manylinux2014_x86_64.whl (883 kB)\n",
            "\u001b[2K   \u001b[90m━━━━━━━━━━━━━━━━━━━━━━━━━━━━━━━━━━━━━━━━\u001b[0m \u001b[32m883.7/883.7 kB\u001b[0m \u001b[31m62.6 MB/s\u001b[0m eta \u001b[36m0:00:00\u001b[0m\n",
            "\u001b[?25hDownloading nvidia_cudnn_cu12-9.1.0.70-py3-none-manylinux2014_x86_64.whl (664.8 MB)\n",
            "\u001b[2K   \u001b[90m━━━━━━━━━━━━━━━━━━━━━━━━━━━━━━━━━━━━━━━━\u001b[0m \u001b[32m664.8/664.8 MB\u001b[0m \u001b[31m2.3 MB/s\u001b[0m eta \u001b[36m0:00:00\u001b[0m\n",
            "\u001b[?25hDownloading nvidia_cufft_cu12-11.2.1.3-py3-none-manylinux2014_x86_64.whl (211.5 MB)\n",
            "\u001b[2K   \u001b[90m━━━━━━━━━━━━━━━━━━━━━━━━━━━━━━━━━━━━━━━━\u001b[0m \u001b[32m211.5/211.5 MB\u001b[0m \u001b[31m5.4 MB/s\u001b[0m eta \u001b[36m0:00:00\u001b[0m\n",
            "\u001b[?25hDownloading nvidia_curand_cu12-10.3.5.147-py3-none-manylinux2014_x86_64.whl (56.3 MB)\n",
            "\u001b[2K   \u001b[90m━━━━━━━━━━━━━━━━━━━━━━━━━━━━━━━━━━━━━━━━\u001b[0m \u001b[32m56.3/56.3 MB\u001b[0m \u001b[31m13.1 MB/s\u001b[0m eta \u001b[36m0:00:00\u001b[0m\n",
            "\u001b[?25hDownloading nvidia_cusolver_cu12-11.6.1.9-py3-none-manylinux2014_x86_64.whl (127.9 MB)\n",
            "\u001b[2K   \u001b[90m━━━━━━━━━━━━━━━━━━━━━━━━━━━━━━━━━━━━━━━━\u001b[0m \u001b[32m127.9/127.9 MB\u001b[0m \u001b[31m7.3 MB/s\u001b[0m eta \u001b[36m0:00:00\u001b[0m\n",
            "\u001b[?25hDownloading nvidia_cusparse_cu12-12.3.1.170-py3-none-manylinux2014_x86_64.whl (207.5 MB)\n",
            "\u001b[2K   \u001b[90m━━━━━━━━━━━━━━━━━━━━━━━━━━━━━━━━━━━━━━━━\u001b[0m \u001b[32m207.5/207.5 MB\u001b[0m \u001b[31m6.2 MB/s\u001b[0m eta \u001b[36m0:00:00\u001b[0m\n",
            "\u001b[?25hDownloading nvidia_nvjitlink_cu12-12.4.127-py3-none-manylinux2014_x86_64.whl (21.1 MB)\n",
            "\u001b[2K   \u001b[90m━━━━━━━━━━━━━━━━━━━━━━━━━━━━━━━━━━━━━━━━\u001b[0m \u001b[32m21.1/21.1 MB\u001b[0m \u001b[31m108.4 MB/s\u001b[0m eta \u001b[36m0:00:00\u001b[0m\n",
            "\u001b[?25hDownloading ultralytics_thop-2.0.14-py3-none-any.whl (26 kB)\n",
            "Installing collected packages: nvidia-nvjitlink-cu12, nvidia-curand-cu12, nvidia-cufft-cu12, nvidia-cuda-runtime-cu12, nvidia-cuda-nvrtc-cu12, nvidia-cuda-cupti-cu12, nvidia-cublas-cu12, nvidia-cusparse-cu12, nvidia-cudnn-cu12, nvidia-cusolver-cu12, ultralytics-thop, ultralytics\n",
            "  Attempting uninstall: nvidia-nvjitlink-cu12\n",
            "    Found existing installation: nvidia-nvjitlink-cu12 12.5.82\n",
            "    Uninstalling nvidia-nvjitlink-cu12-12.5.82:\n",
            "      Successfully uninstalled nvidia-nvjitlink-cu12-12.5.82\n",
            "  Attempting uninstall: nvidia-curand-cu12\n",
            "    Found existing installation: nvidia-curand-cu12 10.3.6.82\n",
            "    Uninstalling nvidia-curand-cu12-10.3.6.82:\n",
            "      Successfully uninstalled nvidia-curand-cu12-10.3.6.82\n",
            "  Attempting uninstall: nvidia-cufft-cu12\n",
            "    Found existing installation: nvidia-cufft-cu12 11.2.3.61\n",
            "    Uninstalling nvidia-cufft-cu12-11.2.3.61:\n",
            "      Successfully uninstalled nvidia-cufft-cu12-11.2.3.61\n",
            "  Attempting uninstall: nvidia-cuda-runtime-cu12\n",
            "    Found existing installation: nvidia-cuda-runtime-cu12 12.5.82\n",
            "    Uninstalling nvidia-cuda-runtime-cu12-12.5.82:\n",
            "      Successfully uninstalled nvidia-cuda-runtime-cu12-12.5.82\n",
            "  Attempting uninstall: nvidia-cuda-nvrtc-cu12\n",
            "    Found existing installation: nvidia-cuda-nvrtc-cu12 12.5.82\n",
            "    Uninstalling nvidia-cuda-nvrtc-cu12-12.5.82:\n",
            "      Successfully uninstalled nvidia-cuda-nvrtc-cu12-12.5.82\n",
            "  Attempting uninstall: nvidia-cuda-cupti-cu12\n",
            "    Found existing installation: nvidia-cuda-cupti-cu12 12.5.82\n",
            "    Uninstalling nvidia-cuda-cupti-cu12-12.5.82:\n",
            "      Successfully uninstalled nvidia-cuda-cupti-cu12-12.5.82\n",
            "  Attempting uninstall: nvidia-cublas-cu12\n",
            "    Found existing installation: nvidia-cublas-cu12 12.5.3.2\n",
            "    Uninstalling nvidia-cublas-cu12-12.5.3.2:\n",
            "      Successfully uninstalled nvidia-cublas-cu12-12.5.3.2\n",
            "  Attempting uninstall: nvidia-cusparse-cu12\n",
            "    Found existing installation: nvidia-cusparse-cu12 12.5.1.3\n",
            "    Uninstalling nvidia-cusparse-cu12-12.5.1.3:\n",
            "      Successfully uninstalled nvidia-cusparse-cu12-12.5.1.3\n",
            "  Attempting uninstall: nvidia-cudnn-cu12\n",
            "    Found existing installation: nvidia-cudnn-cu12 9.3.0.75\n",
            "    Uninstalling nvidia-cudnn-cu12-9.3.0.75:\n",
            "      Successfully uninstalled nvidia-cudnn-cu12-9.3.0.75\n",
            "  Attempting uninstall: nvidia-cusolver-cu12\n",
            "    Found existing installation: nvidia-cusolver-cu12 11.6.3.83\n",
            "    Uninstalling nvidia-cusolver-cu12-11.6.3.83:\n",
            "      Successfully uninstalled nvidia-cusolver-cu12-11.6.3.83\n",
            "Successfully installed nvidia-cublas-cu12-12.4.5.8 nvidia-cuda-cupti-cu12-12.4.127 nvidia-cuda-nvrtc-cu12-12.4.127 nvidia-cuda-runtime-cu12-12.4.127 nvidia-cudnn-cu12-9.1.0.70 nvidia-cufft-cu12-11.2.1.3 nvidia-curand-cu12-10.3.5.147 nvidia-cusolver-cu12-11.6.1.9 nvidia-cusparse-cu12-12.3.1.170 nvidia-nvjitlink-cu12-12.4.127 ultralytics-8.3.112 ultralytics-thop-2.0.14\n"
          ]
        }
      ],
      "source": [
        "pip install ultralytics"
      ]
    },
    {
      "cell_type": "code",
      "execution_count": 10,
      "metadata": {
        "colab": {
          "base_uri": "https://localhost:8080/"
        },
        "collapsed": true,
        "id": "M4lIt2gyKf0w",
        "outputId": "bcdbf8ae-7078-4ca5-b4ec-21434b096d12"
      },
      "outputs": [
        {
          "name": "stdout",
          "output_type": "stream",
          "text": [
            "Ultralytics 8.3.112 🚀 Python-3.11.12 torch-2.6.0+cu124 CUDA:0 (Tesla T4, 15095MiB)\n",
            "\u001b[34m\u001b[1mengine/trainer: \u001b[0mtask=detect, mode=train, model=/content/best (8).pt, data=/content/weed-mini-SG-2/data.yaml, epochs=10, time=None, patience=100, batch=16, imgsz=640, save=True, save_period=-1, cache=False, device=0, workers=4, project=/content/drive/MyDrive/yolov10_outputs/finetune_yolov10, name=finetune_yolov105, exist_ok=False, pretrained=True, optimizer=auto, verbose=True, seed=0, deterministic=True, single_cls=False, rect=False, cos_lr=False, close_mosaic=10, resume=False, amp=True, fraction=1.0, profile=False, freeze=None, multi_scale=False, overlap_mask=True, mask_ratio=4, dropout=0.0, val=True, split=val, save_json=False, conf=None, iou=0.7, max_det=300, half=False, dnn=False, plots=True, source=None, vid_stride=1, stream_buffer=False, visualize=False, augment=True, agnostic_nms=False, classes=None, retina_masks=False, embed=None, show=False, save_frames=False, save_txt=False, save_conf=False, save_crop=False, show_labels=True, show_conf=True, show_boxes=True, line_width=None, format=torchscript, keras=False, optimize=False, int8=False, dynamic=False, simplify=True, opset=None, workspace=None, nms=False, lr0=0.0005, lrf=0.01, momentum=0.937, weight_decay=0.0005, warmup_epochs=3.0, warmup_momentum=0.8, warmup_bias_lr=0.1, box=7.5, cls=0.5, dfl=1.5, pose=12.0, kobj=1.0, nbs=64, hsv_h=0.015, hsv_s=0.7, hsv_v=0.4, degrees=0.0, translate=0.1, scale=0.5, shear=0.0, perspective=0.0, flipud=0.0, fliplr=0.5, bgr=0.0, mosaic=1.0, mixup=0.0, copy_paste=0.0, copy_paste_mode=flip, auto_augment=randaugment, erasing=0.4, cfg=None, tracker=botsort.yaml, save_dir=/content/drive/MyDrive/yolov10_outputs/finetune_yolov10/finetune_yolov105\n",
            "Downloading https://ultralytics.com/assets/Arial.ttf to '/root/.config/Ultralytics/Arial.ttf'...\n"
          ]
        },
        {
          "name": "stderr",
          "output_type": "stream",
          "text": [
            "100%|██████████| 755k/755k [00:00<00:00, 24.7MB/s]"
          ]
        },
        {
          "name": "stdout",
          "output_type": "stream",
          "text": [
            "\n",
            "                   from  n    params  module                                       arguments                     \n",
            "  0                  -1  1      1392  ultralytics.nn.modules.conv.Conv             [3, 48, 3, 2]                 \n",
            "  1                  -1  1     41664  ultralytics.nn.modules.conv.Conv             [48, 96, 3, 2]                \n",
            "  2                  -1  2    111360  ultralytics.nn.modules.block.C2f             [96, 96, 2, True]             \n",
            "  3                  -1  1    166272  ultralytics.nn.modules.conv.Conv             [96, 192, 3, 2]               \n",
            "  4                  -1  4    813312  ultralytics.nn.modules.block.C2f             [192, 192, 4, True]           \n",
            "  5                  -1  1     78720  ultralytics.nn.modules.block.SCDown          [192, 384, 3, 2]              \n",
            "  6                  -1  4   3248640  ultralytics.nn.modules.block.C2f             [384, 384, 4, True]           \n",
            "  7                  -1  1    228672  ultralytics.nn.modules.block.SCDown          [384, 576, 3, 2]              \n",
            "  8                  -1  2   1689984  ultralytics.nn.modules.block.C2fCIB          [576, 576, 2, True]           \n",
            "  9                  -1  1    831168  ultralytics.nn.modules.block.SPPF            [576, 576, 5]                 \n",
            " 10                  -1  1   1253088  ultralytics.nn.modules.block.PSA             [576, 576]                    \n",
            " 11                  -1  1         0  torch.nn.modules.upsampling.Upsample         [None, 2, 'nearest']          \n",
            " 12             [-1, 6]  1         0  ultralytics.nn.modules.conv.Concat           [1]                           \n",
            " 13                  -1  2   1993728  ultralytics.nn.modules.block.C2f             [960, 384, 2]                 \n",
            " 14                  -1  1         0  torch.nn.modules.upsampling.Upsample         [None, 2, 'nearest']          \n",
            " 15             [-1, 4]  1         0  ultralytics.nn.modules.conv.Concat           [1]                           \n"
          ]
        },
        {
          "name": "stderr",
          "output_type": "stream",
          "text": [
            "\n"
          ]
        },
        {
          "name": "stdout",
          "output_type": "stream",
          "text": [
            " 16                  -1  2    517632  ultralytics.nn.modules.block.C2f             [576, 192, 2]                 \n",
            " 17                  -1  1    332160  ultralytics.nn.modules.conv.Conv             [192, 192, 3, 2]              \n",
            " 18            [-1, 13]  1         0  ultralytics.nn.modules.conv.Concat           [1]                           \n",
            " 19                  -1  2    831744  ultralytics.nn.modules.block.C2fCIB          [576, 384, 2, True]           \n",
            " 20                  -1  1    152448  ultralytics.nn.modules.block.SCDown          [384, 384, 3, 2]              \n",
            " 21            [-1, 10]  1         0  ultralytics.nn.modules.conv.Concat           [1]                           \n",
            " 22                  -1  2   1911168  ultralytics.nn.modules.block.C2fCIB          [960, 576, 2, True]           \n",
            " 23        [16, 19, 22]  1   2282134  ultralytics.nn.modules.head.v10Detect        [1, [192, 384, 576]]          \n",
            "YOLOv10m summary: 288 layers, 16,485,286 parameters, 16,485,270 gradients, 64.0 GFLOPs\n",
            "\n",
            "Transferred 799/799 items from pretrained weights\n",
            "Freezing layer 'model.23.dfl.conv.weight'\n",
            "\u001b[34m\u001b[1mAMP: \u001b[0mrunning Automatic Mixed Precision (AMP) checks...\n",
            "Downloading https://github.com/ultralytics/assets/releases/download/v8.3.0/yolo11n.pt to 'yolo11n.pt'...\n"
          ]
        },
        {
          "name": "stderr",
          "output_type": "stream",
          "text": [
            "100%|██████████| 5.35M/5.35M [00:00<00:00, 86.1MB/s]\n"
          ]
        },
        {
          "name": "stdout",
          "output_type": "stream",
          "text": [
            "\u001b[34m\u001b[1mAMP: \u001b[0mchecks passed ✅\n",
            "\u001b[34m\u001b[1mtrain: \u001b[0mFast image access ✅ (ping: 0.0±0.0 ms, read: 42.3±4.6 MB/s, size: 107.6 KB)\n"
          ]
        },
        {
          "name": "stderr",
          "output_type": "stream",
          "text": [
            "\u001b[34m\u001b[1mtrain: \u001b[0mScanning /content/weed-mini-SG-2/train/labels... 39 images, 0 backgrounds, 0 corrupt: 100%|██████████| 39/39 [00:00<00:00, 504.67it/s]"
          ]
        },
        {
          "name": "stdout",
          "output_type": "stream",
          "text": [
            "\u001b[34m\u001b[1mtrain: \u001b[0mNew cache created: /content/weed-mini-SG-2/train/labels.cache\n"
          ]
        },
        {
          "name": "stderr",
          "output_type": "stream",
          "text": [
            "\n"
          ]
        },
        {
          "name": "stdout",
          "output_type": "stream",
          "text": [
            "\u001b[34m\u001b[1malbumentations: \u001b[0mBlur(p=0.01, blur_limit=(3, 7)), MedianBlur(p=0.01, blur_limit=(3, 7)), ToGray(p=0.01, num_output_channels=3, method='weighted_average'), CLAHE(p=0.01, clip_limit=(1.0, 4.0), tile_grid_size=(8, 8))\n",
            "\u001b[34m\u001b[1mval: \u001b[0mFast image access ✅ (ping: 0.0±0.0 ms, read: 178.8±287.4 MB/s, size: 132.0 KB)\n"
          ]
        },
        {
          "name": "stderr",
          "output_type": "stream",
          "text": [
            "\u001b[34m\u001b[1mval: \u001b[0mScanning /content/weed-mini-SG-2/train/labels.cache... 39 images, 0 backgrounds, 0 corrupt: 100%|██████████| 39/39 [00:00<?, ?it/s]\n"
          ]
        },
        {
          "name": "stdout",
          "output_type": "stream",
          "text": [
            "Plotting labels to /content/drive/MyDrive/yolov10_outputs/finetune_yolov10/finetune_yolov105/labels.jpg... \n",
            "\u001b[34m\u001b[1moptimizer:\u001b[0m 'optimizer=auto' found, ignoring 'lr0=0.0005' and 'momentum=0.937' and determining best 'optimizer', 'lr0' and 'momentum' automatically... \n",
            "\u001b[34m\u001b[1moptimizer:\u001b[0m AdamW(lr=0.002, momentum=0.9) with parameter groups 129 weight(decay=0.0), 142 weight(decay=0.0005), 141 bias(decay=0.0)\n",
            "Image sizes 640 train, 640 val\n",
            "Using 2 dataloader workers\n",
            "Logging results to \u001b[1m/content/drive/MyDrive/yolov10_outputs/finetune_yolov10/finetune_yolov105\u001b[0m\n",
            "Starting training for 10 epochs...\n",
            "Closing dataloader mosaic\n",
            "\u001b[34m\u001b[1malbumentations: \u001b[0mBlur(p=0.01, blur_limit=(3, 7)), MedianBlur(p=0.01, blur_limit=(3, 7)), ToGray(p=0.01, num_output_channels=3, method='weighted_average'), CLAHE(p=0.01, clip_limit=(1.0, 4.0), tile_grid_size=(8, 8))\n",
            "\n",
            "      Epoch    GPU_mem   box_loss   cls_loss   dfl_loss  Instances       Size\n"
          ]
        },
        {
          "name": "stderr",
          "output_type": "stream",
          "text": [
            "       1/10      8.18G      4.418      8.525      4.638         22        640: 100%|██████████| 3/3 [00:04<00:00,  1.63s/it]\n",
            "                 Class     Images  Instances      Box(P          R      mAP50  mAP50-95): 100%|██████████| 2/2 [00:01<00:00,  1.19it/s]"
          ]
        },
        {
          "name": "stdout",
          "output_type": "stream",
          "text": [
            "                   all         39        150     0.0597      0.107     0.0262     0.0104\n"
          ]
        },
        {
          "name": "stderr",
          "output_type": "stream",
          "text": [
            "\n"
          ]
        },
        {
          "name": "stdout",
          "output_type": "stream",
          "text": [
            "\n",
            "      Epoch    GPU_mem   box_loss   cls_loss   dfl_loss  Instances       Size\n"
          ]
        },
        {
          "name": "stderr",
          "output_type": "stream",
          "text": [
            "       2/10      8.21G      4.459       9.08      4.507         29        640: 100%|██████████| 3/3 [00:01<00:00,  2.05it/s]\n",
            "                 Class     Images  Instances      Box(P          R      mAP50  mAP50-95): 100%|██████████| 2/2 [00:00<00:00,  3.52it/s]"
          ]
        },
        {
          "name": "stdout",
          "output_type": "stream",
          "text": [
            "                   all         39        150      0.068      0.127     0.0251    0.00987\n"
          ]
        },
        {
          "name": "stderr",
          "output_type": "stream",
          "text": [
            "\n"
          ]
        },
        {
          "name": "stdout",
          "output_type": "stream",
          "text": [
            "\n",
            "      Epoch    GPU_mem   box_loss   cls_loss   dfl_loss  Instances       Size\n"
          ]
        },
        {
          "name": "stderr",
          "output_type": "stream",
          "text": [
            "       3/10      8.27G      4.175      8.208      4.398         30        640: 100%|██████████| 3/3 [00:01<00:00,  1.90it/s]\n",
            "                 Class     Images  Instances      Box(P          R      mAP50  mAP50-95): 100%|██████████| 2/2 [00:00<00:00,  3.14it/s]"
          ]
        },
        {
          "name": "stdout",
          "output_type": "stream",
          "text": [
            "                   all         39        150      0.199     0.0667     0.0464     0.0326\n"
          ]
        },
        {
          "name": "stderr",
          "output_type": "stream",
          "text": [
            "\n"
          ]
        },
        {
          "name": "stdout",
          "output_type": "stream",
          "text": [
            "\n",
            "      Epoch    GPU_mem   box_loss   cls_loss   dfl_loss  Instances       Size\n"
          ]
        },
        {
          "name": "stderr",
          "output_type": "stream",
          "text": [
            "       4/10      8.33G      3.871      6.042      4.275         29        640: 100%|██████████| 3/3 [00:01<00:00,  1.89it/s]\n",
            "                 Class     Images  Instances      Box(P          R      mAP50  mAP50-95): 100%|██████████| 2/2 [00:00<00:00,  2.99it/s]"
          ]
        },
        {
          "name": "stdout",
          "output_type": "stream",
          "text": [
            "                   all         39        150      0.195      0.133     0.0954     0.0419\n"
          ]
        },
        {
          "name": "stderr",
          "output_type": "stream",
          "text": [
            "\n"
          ]
        },
        {
          "name": "stdout",
          "output_type": "stream",
          "text": [
            "\n",
            "      Epoch    GPU_mem   box_loss   cls_loss   dfl_loss  Instances       Size\n"
          ]
        },
        {
          "name": "stderr",
          "output_type": "stream",
          "text": [
            "       5/10      8.32G      3.493      5.416      4.092         23        640: 100%|██████████| 3/3 [00:01<00:00,  1.91it/s]\n",
            "                 Class     Images  Instances      Box(P          R      mAP50  mAP50-95): 100%|██████████| 2/2 [00:00<00:00,  3.49it/s]"
          ]
        },
        {
          "name": "stdout",
          "output_type": "stream",
          "text": [
            "                   all         39        150      0.327     0.0667     0.0744     0.0435\n"
          ]
        },
        {
          "name": "stderr",
          "output_type": "stream",
          "text": [
            "\n"
          ]
        },
        {
          "name": "stdout",
          "output_type": "stream",
          "text": [
            "\n",
            "      Epoch    GPU_mem   box_loss   cls_loss   dfl_loss  Instances       Size\n"
          ]
        },
        {
          "name": "stderr",
          "output_type": "stream",
          "text": [
            "       6/10      8.34G       3.66      4.768      4.362         25        640: 100%|██████████| 3/3 [00:01<00:00,  2.05it/s]\n",
            "                 Class     Images  Instances      Box(P          R      mAP50  mAP50-95): 100%|██████████| 2/2 [00:00<00:00,  3.46it/s]"
          ]
        },
        {
          "name": "stdout",
          "output_type": "stream",
          "text": [
            "                   all         39        150      0.263      0.213      0.151     0.0721\n"
          ]
        },
        {
          "name": "stderr",
          "output_type": "stream",
          "text": [
            "\n"
          ]
        },
        {
          "name": "stdout",
          "output_type": "stream",
          "text": [
            "\n",
            "      Epoch    GPU_mem   box_loss   cls_loss   dfl_loss  Instances       Size\n"
          ]
        },
        {
          "name": "stderr",
          "output_type": "stream",
          "text": [
            "       7/10      8.39G      3.513      4.919      4.158         28        640: 100%|██████████| 3/3 [00:01<00:00,  1.90it/s]\n",
            "                 Class     Images  Instances      Box(P          R      mAP50  mAP50-95): 100%|██████████| 2/2 [00:00<00:00,  3.21it/s]"
          ]
        },
        {
          "name": "stdout",
          "output_type": "stream",
          "text": [
            "                   all         39        150      0.437      0.316      0.309       0.15\n"
          ]
        },
        {
          "name": "stderr",
          "output_type": "stream",
          "text": [
            "\n"
          ]
        },
        {
          "name": "stdout",
          "output_type": "stream",
          "text": [
            "\n",
            "      Epoch    GPU_mem   box_loss   cls_loss   dfl_loss  Instances       Size\n"
          ]
        },
        {
          "name": "stderr",
          "output_type": "stream",
          "text": [
            "       8/10      8.36G      3.244       4.19      3.877         23        640: 100%|██████████| 3/3 [00:01<00:00,  1.98it/s]\n",
            "                 Class     Images  Instances      Box(P          R      mAP50  mAP50-95): 100%|██████████| 2/2 [00:00<00:00,  3.43it/s]"
          ]
        },
        {
          "name": "stdout",
          "output_type": "stream",
          "text": [
            "                   all         39        150      0.401      0.433      0.354       0.17\n"
          ]
        },
        {
          "name": "stderr",
          "output_type": "stream",
          "text": [
            "\n"
          ]
        },
        {
          "name": "stdout",
          "output_type": "stream",
          "text": [
            "\n",
            "      Epoch    GPU_mem   box_loss   cls_loss   dfl_loss  Instances       Size\n"
          ]
        },
        {
          "name": "stderr",
          "output_type": "stream",
          "text": [
            "       9/10       8.4G      3.387      4.931       4.23         18        640: 100%|██████████| 3/3 [00:01<00:00,  2.07it/s]\n",
            "                 Class     Images  Instances      Box(P          R      mAP50  mAP50-95): 100%|██████████| 2/2 [00:00<00:00,  3.44it/s]"
          ]
        },
        {
          "name": "stdout",
          "output_type": "stream",
          "text": [
            "                   all         39        150      0.455      0.473      0.448      0.236\n"
          ]
        },
        {
          "name": "stderr",
          "output_type": "stream",
          "text": [
            "\n"
          ]
        },
        {
          "name": "stdout",
          "output_type": "stream",
          "text": [
            "\n",
            "      Epoch    GPU_mem   box_loss   cls_loss   dfl_loss  Instances       Size\n"
          ]
        },
        {
          "name": "stderr",
          "output_type": "stream",
          "text": [
            "      10/10      8.34G       3.18      3.805      3.927         30        640: 100%|██████████| 3/3 [00:01<00:00,  2.10it/s]\n",
            "                 Class     Images  Instances      Box(P          R      mAP50  mAP50-95): 100%|██████████| 2/2 [00:00<00:00,  3.45it/s]"
          ]
        },
        {
          "name": "stdout",
          "output_type": "stream",
          "text": [
            "                   all         39        150      0.428      0.493       0.46      0.252\n"
          ]
        },
        {
          "name": "stderr",
          "output_type": "stream",
          "text": [
            "\n"
          ]
        },
        {
          "name": "stdout",
          "output_type": "stream",
          "text": [
            "\n",
            "10 epochs completed in 0.012 hours.\n",
            "Optimizer stripped from /content/drive/MyDrive/yolov10_outputs/finetune_yolov10/finetune_yolov105/weights/last.pt, 33.5MB\n",
            "Optimizer stripped from /content/drive/MyDrive/yolov10_outputs/finetune_yolov10/finetune_yolov105/weights/best.pt, 33.5MB\n",
            "\n",
            "Validating /content/drive/MyDrive/yolov10_outputs/finetune_yolov10/finetune_yolov105/weights/best.pt...\n",
            "Ultralytics 8.3.112 🚀 Python-3.11.12 torch-2.6.0+cu124 CUDA:0 (Tesla T4, 15095MiB)\n",
            "YOLOv10m summary (fused): 136 layers, 15,313,747 parameters, 0 gradients, 58.9 GFLOPs\n"
          ]
        },
        {
          "name": "stderr",
          "output_type": "stream",
          "text": [
            "\r                 Class     Images  Instances      Box(P          R      mAP50  mAP50-95):   0%|          | 0/2 [00:00<?, ?it/s]"
          ]
        },
        {
          "name": "stdout",
          "output_type": "stream",
          "text": [
            "WARNING ⚠️ Model does not support 'augment=True', reverting to single-scale prediction.\n"
          ]
        },
        {
          "name": "stderr",
          "output_type": "stream",
          "text": [
            "\r                 Class     Images  Instances      Box(P          R      mAP50  mAP50-95):  50%|█████     | 1/2 [00:00<00:00,  1.68it/s]"
          ]
        },
        {
          "name": "stdout",
          "output_type": "stream",
          "text": [
            "WARNING ⚠️ Model does not support 'augment=True', reverting to single-scale prediction.\n"
          ]
        },
        {
          "name": "stderr",
          "output_type": "stream",
          "text": [
            "                 Class     Images  Instances      Box(P          R      mAP50  mAP50-95): 100%|██████████| 2/2 [00:00<00:00,  2.25it/s]\n"
          ]
        },
        {
          "name": "stdout",
          "output_type": "stream",
          "text": [
            "                   all         39        150      0.554      0.407      0.459      0.251\n",
            "Speed: 0.2ms preprocess, 11.6ms inference, 0.0ms loss, 0.1ms postprocess per image\n",
            "Results saved to \u001b[1m/content/drive/MyDrive/yolov10_outputs/finetune_yolov10/finetune_yolov105\u001b[0m\n"
          ]
        },
        {
          "data": {
            "text/plain": [
              "ultralytics.utils.metrics.DetMetrics object with attributes:\n",
              "\n",
              "ap_class_index: array([0])\n",
              "box: ultralytics.utils.metrics.Metric object\n",
              "confusion_matrix: <ultralytics.utils.metrics.ConfusionMatrix object at 0x7ba2f15e3410>\n",
              "curves: ['Precision-Recall(B)', 'F1-Confidence(B)', 'Precision-Confidence(B)', 'Recall-Confidence(B)']\n",
              "curves_results: [[array([          0,    0.001001,    0.002002,    0.003003,    0.004004,    0.005005,    0.006006,    0.007007,    0.008008,    0.009009,     0.01001,    0.011011,    0.012012,    0.013013,    0.014014,    0.015015,    0.016016,    0.017017,    0.018018,    0.019019,     0.02002,    0.021021,    0.022022,    0.023023,\n",
              "          0.024024,    0.025025,    0.026026,    0.027027,    0.028028,    0.029029,     0.03003,    0.031031,    0.032032,    0.033033,    0.034034,    0.035035,    0.036036,    0.037037,    0.038038,    0.039039,     0.04004,    0.041041,    0.042042,    0.043043,    0.044044,    0.045045,    0.046046,    0.047047,\n",
              "          0.048048,    0.049049,     0.05005,    0.051051,    0.052052,    0.053053,    0.054054,    0.055055,    0.056056,    0.057057,    0.058058,    0.059059,     0.06006,    0.061061,    0.062062,    0.063063,    0.064064,    0.065065,    0.066066,    0.067067,    0.068068,    0.069069,     0.07007,    0.071071,\n",
              "          0.072072,    0.073073,    0.074074,    0.075075,    0.076076,    0.077077,    0.078078,    0.079079,     0.08008,    0.081081,    0.082082,    0.083083,    0.084084,    0.085085,    0.086086,    0.087087,    0.088088,    0.089089,     0.09009,    0.091091,    0.092092,    0.093093,    0.094094,    0.095095,\n",
              "          0.096096,    0.097097,    0.098098,    0.099099,      0.1001,      0.1011,      0.1021,      0.1031,      0.1041,     0.10511,     0.10611,     0.10711,     0.10811,     0.10911,     0.11011,     0.11111,     0.11211,     0.11311,     0.11411,     0.11512,     0.11612,     0.11712,     0.11812,     0.11912,\n",
              "           0.12012,     0.12112,     0.12212,     0.12312,     0.12412,     0.12513,     0.12613,     0.12713,     0.12813,     0.12913,     0.13013,     0.13113,     0.13213,     0.13313,     0.13413,     0.13514,     0.13614,     0.13714,     0.13814,     0.13914,     0.14014,     0.14114,     0.14214,     0.14314,\n",
              "           0.14414,     0.14515,     0.14615,     0.14715,     0.14815,     0.14915,     0.15015,     0.15115,     0.15215,     0.15315,     0.15415,     0.15516,     0.15616,     0.15716,     0.15816,     0.15916,     0.16016,     0.16116,     0.16216,     0.16316,     0.16416,     0.16517,     0.16617,     0.16717,\n",
              "           0.16817,     0.16917,     0.17017,     0.17117,     0.17217,     0.17317,     0.17417,     0.17518,     0.17618,     0.17718,     0.17818,     0.17918,     0.18018,     0.18118,     0.18218,     0.18318,     0.18418,     0.18519,     0.18619,     0.18719,     0.18819,     0.18919,     0.19019,     0.19119,\n",
              "           0.19219,     0.19319,     0.19419,      0.1952,      0.1962,      0.1972,      0.1982,      0.1992,      0.2002,      0.2012,      0.2022,      0.2032,      0.2042,     0.20521,     0.20621,     0.20721,     0.20821,     0.20921,     0.21021,     0.21121,     0.21221,     0.21321,     0.21421,     0.21522,\n",
              "           0.21622,     0.21722,     0.21822,     0.21922,     0.22022,     0.22122,     0.22222,     0.22322,     0.22422,     0.22523,     0.22623,     0.22723,     0.22823,     0.22923,     0.23023,     0.23123,     0.23223,     0.23323,     0.23423,     0.23524,     0.23624,     0.23724,     0.23824,     0.23924,\n",
              "           0.24024,     0.24124,     0.24224,     0.24324,     0.24424,     0.24525,     0.24625,     0.24725,     0.24825,     0.24925,     0.25025,     0.25125,     0.25225,     0.25325,     0.25425,     0.25526,     0.25626,     0.25726,     0.25826,     0.25926,     0.26026,     0.26126,     0.26226,     0.26326,\n",
              "           0.26426,     0.26527,     0.26627,     0.26727,     0.26827,     0.26927,     0.27027,     0.27127,     0.27227,     0.27327,     0.27427,     0.27528,     0.27628,     0.27728,     0.27828,     0.27928,     0.28028,     0.28128,     0.28228,     0.28328,     0.28428,     0.28529,     0.28629,     0.28729,\n",
              "           0.28829,     0.28929,     0.29029,     0.29129,     0.29229,     0.29329,     0.29429,      0.2953,      0.2963,      0.2973,      0.2983,      0.2993,      0.3003,      0.3013,      0.3023,      0.3033,      0.3043,     0.30531,     0.30631,     0.30731,     0.30831,     0.30931,     0.31031,     0.31131,\n",
              "           0.31231,     0.31331,     0.31431,     0.31532,     0.31632,     0.31732,     0.31832,     0.31932,     0.32032,     0.32132,     0.32232,     0.32332,     0.32432,     0.32533,     0.32633,     0.32733,     0.32833,     0.32933,     0.33033,     0.33133,     0.33233,     0.33333,     0.33433,     0.33534,\n",
              "           0.33634,     0.33734,     0.33834,     0.33934,     0.34034,     0.34134,     0.34234,     0.34334,     0.34434,     0.34535,     0.34635,     0.34735,     0.34835,     0.34935,     0.35035,     0.35135,     0.35235,     0.35335,     0.35435,     0.35536,     0.35636,     0.35736,     0.35836,     0.35936,\n",
              "           0.36036,     0.36136,     0.36236,     0.36336,     0.36436,     0.36537,     0.36637,     0.36737,     0.36837,     0.36937,     0.37037,     0.37137,     0.37237,     0.37337,     0.37437,     0.37538,     0.37638,     0.37738,     0.37838,     0.37938,     0.38038,     0.38138,     0.38238,     0.38338,\n",
              "           0.38438,     0.38539,     0.38639,     0.38739,     0.38839,     0.38939,     0.39039,     0.39139,     0.39239,     0.39339,     0.39439,      0.3954,      0.3964,      0.3974,      0.3984,      0.3994,      0.4004,      0.4014,      0.4024,      0.4034,      0.4044,     0.40541,     0.40641,     0.40741,\n",
              "           0.40841,     0.40941,     0.41041,     0.41141,     0.41241,     0.41341,     0.41441,     0.41542,     0.41642,     0.41742,     0.41842,     0.41942,     0.42042,     0.42142,     0.42242,     0.42342,     0.42442,     0.42543,     0.42643,     0.42743,     0.42843,     0.42943,     0.43043,     0.43143,\n",
              "           0.43243,     0.43343,     0.43443,     0.43544,     0.43644,     0.43744,     0.43844,     0.43944,     0.44044,     0.44144,     0.44244,     0.44344,     0.44444,     0.44545,     0.44645,     0.44745,     0.44845,     0.44945,     0.45045,     0.45145,     0.45245,     0.45345,     0.45445,     0.45546,\n",
              "           0.45646,     0.45746,     0.45846,     0.45946,     0.46046,     0.46146,     0.46246,     0.46346,     0.46446,     0.46547,     0.46647,     0.46747,     0.46847,     0.46947,     0.47047,     0.47147,     0.47247,     0.47347,     0.47447,     0.47548,     0.47648,     0.47748,     0.47848,     0.47948,\n",
              "           0.48048,     0.48148,     0.48248,     0.48348,     0.48448,     0.48549,     0.48649,     0.48749,     0.48849,     0.48949,     0.49049,     0.49149,     0.49249,     0.49349,     0.49449,      0.4955,      0.4965,      0.4975,      0.4985,      0.4995,      0.5005,      0.5015,      0.5025,      0.5035,\n",
              "            0.5045,     0.50551,     0.50651,     0.50751,     0.50851,     0.50951,     0.51051,     0.51151,     0.51251,     0.51351,     0.51451,     0.51552,     0.51652,     0.51752,     0.51852,     0.51952,     0.52052,     0.52152,     0.52252,     0.52352,     0.52452,     0.52553,     0.52653,     0.52753,\n",
              "           0.52853,     0.52953,     0.53053,     0.53153,     0.53253,     0.53353,     0.53453,     0.53554,     0.53654,     0.53754,     0.53854,     0.53954,     0.54054,     0.54154,     0.54254,     0.54354,     0.54454,     0.54555,     0.54655,     0.54755,     0.54855,     0.54955,     0.55055,     0.55155,\n",
              "           0.55255,     0.55355,     0.55455,     0.55556,     0.55656,     0.55756,     0.55856,     0.55956,     0.56056,     0.56156,     0.56256,     0.56356,     0.56456,     0.56557,     0.56657,     0.56757,     0.56857,     0.56957,     0.57057,     0.57157,     0.57257,     0.57357,     0.57457,     0.57558,\n",
              "           0.57658,     0.57758,     0.57858,     0.57958,     0.58058,     0.58158,     0.58258,     0.58358,     0.58458,     0.58559,     0.58659,     0.58759,     0.58859,     0.58959,     0.59059,     0.59159,     0.59259,     0.59359,     0.59459,      0.5956,      0.5966,      0.5976,      0.5986,      0.5996,\n",
              "            0.6006,      0.6016,      0.6026,      0.6036,      0.6046,     0.60561,     0.60661,     0.60761,     0.60861,     0.60961,     0.61061,     0.61161,     0.61261,     0.61361,     0.61461,     0.61562,     0.61662,     0.61762,     0.61862,     0.61962,     0.62062,     0.62162,     0.62262,     0.62362,\n",
              "           0.62462,     0.62563,     0.62663,     0.62763,     0.62863,     0.62963,     0.63063,     0.63163,     0.63263,     0.63363,     0.63463,     0.63564,     0.63664,     0.63764,     0.63864,     0.63964,     0.64064,     0.64164,     0.64264,     0.64364,     0.64464,     0.64565,     0.64665,     0.64765,\n",
              "           0.64865,     0.64965,     0.65065,     0.65165,     0.65265,     0.65365,     0.65465,     0.65566,     0.65666,     0.65766,     0.65866,     0.65966,     0.66066,     0.66166,     0.66266,     0.66366,     0.66466,     0.66567,     0.66667,     0.66767,     0.66867,     0.66967,     0.67067,     0.67167,\n",
              "           0.67267,     0.67367,     0.67467,     0.67568,     0.67668,     0.67768,     0.67868,     0.67968,     0.68068,     0.68168,     0.68268,     0.68368,     0.68468,     0.68569,     0.68669,     0.68769,     0.68869,     0.68969,     0.69069,     0.69169,     0.69269,     0.69369,     0.69469,      0.6957,\n",
              "            0.6967,      0.6977,      0.6987,      0.6997,      0.7007,      0.7017,      0.7027,      0.7037,      0.7047,     0.70571,     0.70671,     0.70771,     0.70871,     0.70971,     0.71071,     0.71171,     0.71271,     0.71371,     0.71471,     0.71572,     0.71672,     0.71772,     0.71872,     0.71972,\n",
              "           0.72072,     0.72172,     0.72272,     0.72372,     0.72472,     0.72573,     0.72673,     0.72773,     0.72873,     0.72973,     0.73073,     0.73173,     0.73273,     0.73373,     0.73473,     0.73574,     0.73674,     0.73774,     0.73874,     0.73974,     0.74074,     0.74174,     0.74274,     0.74374,\n",
              "           0.74474,     0.74575,     0.74675,     0.74775,     0.74875,     0.74975,     0.75075,     0.75175,     0.75275,     0.75375,     0.75475,     0.75576,     0.75676,     0.75776,     0.75876,     0.75976,     0.76076,     0.76176,     0.76276,     0.76376,     0.76476,     0.76577,     0.76677,     0.76777,\n",
              "           0.76877,     0.76977,     0.77077,     0.77177,     0.77277,     0.77377,     0.77477,     0.77578,     0.77678,     0.77778,     0.77878,     0.77978,     0.78078,     0.78178,     0.78278,     0.78378,     0.78478,     0.78579,     0.78679,     0.78779,     0.78879,     0.78979,     0.79079,     0.79179,\n",
              "           0.79279,     0.79379,     0.79479,      0.7958,      0.7968,      0.7978,      0.7988,      0.7998,      0.8008,      0.8018,      0.8028,      0.8038,      0.8048,     0.80581,     0.80681,     0.80781,     0.80881,     0.80981,     0.81081,     0.81181,     0.81281,     0.81381,     0.81481,     0.81582,\n",
              "           0.81682,     0.81782,     0.81882,     0.81982,     0.82082,     0.82182,     0.82282,     0.82382,     0.82482,     0.82583,     0.82683,     0.82783,     0.82883,     0.82983,     0.83083,     0.83183,     0.83283,     0.83383,     0.83483,     0.83584,     0.83684,     0.83784,     0.83884,     0.83984,\n",
              "           0.84084,     0.84184,     0.84284,     0.84384,     0.84484,     0.84585,     0.84685,     0.84785,     0.84885,     0.84985,     0.85085,     0.85185,     0.85285,     0.85385,     0.85485,     0.85586,     0.85686,     0.85786,     0.85886,     0.85986,     0.86086,     0.86186,     0.86286,     0.86386,\n",
              "           0.86486,     0.86587,     0.86687,     0.86787,     0.86887,     0.86987,     0.87087,     0.87187,     0.87287,     0.87387,     0.87487,     0.87588,     0.87688,     0.87788,     0.87888,     0.87988,     0.88088,     0.88188,     0.88288,     0.88388,     0.88488,     0.88589,     0.88689,     0.88789,\n",
              "           0.88889,     0.88989,     0.89089,     0.89189,     0.89289,     0.89389,     0.89489,      0.8959,      0.8969,      0.8979,      0.8989,      0.8999,      0.9009,      0.9019,      0.9029,      0.9039,      0.9049,     0.90591,     0.90691,     0.90791,     0.90891,     0.90991,     0.91091,     0.91191,\n",
              "           0.91291,     0.91391,     0.91491,     0.91592,     0.91692,     0.91792,     0.91892,     0.91992,     0.92092,     0.92192,     0.92292,     0.92392,     0.92492,     0.92593,     0.92693,     0.92793,     0.92893,     0.92993,     0.93093,     0.93193,     0.93293,     0.93393,     0.93493,     0.93594,\n",
              "           0.93694,     0.93794,     0.93894,     0.93994,     0.94094,     0.94194,     0.94294,     0.94394,     0.94494,     0.94595,     0.94695,     0.94795,     0.94895,     0.94995,     0.95095,     0.95195,     0.95295,     0.95395,     0.95495,     0.95596,     0.95696,     0.95796,     0.95896,     0.95996,\n",
              "           0.96096,     0.96196,     0.96296,     0.96396,     0.96496,     0.96597,     0.96697,     0.96797,     0.96897,     0.96997,     0.97097,     0.97197,     0.97297,     0.97397,     0.97497,     0.97598,     0.97698,     0.97798,     0.97898,     0.97998,     0.98098,     0.98198,     0.98298,     0.98398,\n",
              "           0.98498,     0.98599,     0.98699,     0.98799,     0.98899,     0.98999,     0.99099,     0.99199,     0.99299,     0.99399,     0.99499,       0.996,       0.997,       0.998,       0.999,           1]), array([[          1,           1,           1,           1,           1,           1,           1,           1,           1,           1,           1,           1,           1,           1,           1,           1,           1,           1,           1,           1,           1,           1,           1,\n",
              "                  1,           1,           1,           1,           1,           1,           1,           1,           1,           1,           1,           1,           1,           1,           1,           1,           1,           1,           1,           1,           1,           1,           1,\n",
              "                  1,           1,           1,           1,           1,           1,           1,           1,           1,           1,           1,           1,           1,           1,           1,           1,           1,           1,           1,           1,           1,     0.93333,     0.93333,\n",
              "            0.93333,     0.93333,     0.93333,     0.93333,     0.93333,     0.93333,     0.93333,     0.93333,     0.93333,     0.93333,     0.93333,     0.93333,     0.93333,     0.93333,     0.93333,     0.93333,     0.93333,     0.93333,     0.93333,     0.93333,     0.93333,     0.93333,     0.93333,\n",
              "            0.93333,     0.93333,     0.85714,     0.85714,     0.85714,     0.85714,     0.85714,     0.85714,     0.85714,     0.85714,     0.85714,     0.85714,     0.85714,     0.85714,     0.85714,     0.85714,     0.85714,     0.85714,     0.85714,     0.85714,     0.85714,     0.85714,     0.85714,\n",
              "            0.85714,     0.85714,     0.85714,     0.85714,     0.85714,     0.84615,     0.84615,     0.84615,     0.84615,     0.84615,     0.84615,     0.84615,     0.84615,     0.84615,     0.84615,     0.84615,     0.84615,     0.84615,     0.84615,     0.84615,     0.84615,     0.84615,     0.84615,\n",
              "            0.84615,     0.84615,     0.84615,     0.84615,     0.84615,     0.84615,     0.84615,     0.84615,     0.84615,     0.82143,     0.82143,     0.82143,     0.82143,     0.82143,     0.82143,     0.82143,      0.8125,      0.8125,      0.8125,      0.8125,      0.8125,      0.8125,      0.8125,\n",
              "             0.8125,      0.8125,      0.8125,      0.8125,      0.8125,      0.8125,      0.8125,      0.8125,      0.8125,      0.8125,      0.8125,      0.8125,      0.8125,     0.78723,     0.78723,     0.78723,     0.78723,     0.78723,     0.78723,     0.78723,     0.78723,     0.78723,     0.78723,\n",
              "            0.78723,     0.78723,     0.78723,     0.78723,     0.78723,     0.78723,     0.78723,     0.78723,     0.78723,     0.78723,     0.78723,     0.78723,     0.78723,     0.78723,     0.78723,     0.78723,     0.78723,     0.78723,     0.78723,     0.78723,     0.78723,     0.78723,     0.78723,\n",
              "            0.78723,     0.78723,     0.78723,     0.78723,     0.78723,     0.78723,     0.78723,     0.78723,     0.78723,     0.78723,     0.78723,     0.78723,     0.78723,     0.78723,     0.78723,     0.78723,     0.78723,     0.78723,     0.78723,     0.78723,     0.78723,     0.78723,     0.78723,\n",
              "            0.78723,     0.78723,     0.78723,     0.78723,     0.78723,     0.78723,     0.78723,     0.78723,     0.78723,     0.78723,     0.78723,     0.78723,     0.78723,     0.78723,     0.78723,     0.78723,     0.78723,     0.76364,     0.76364,     0.76364,     0.76364,     0.76364,     0.76364,\n",
              "            0.76364,     0.76364,     0.76364,     0.76364,     0.76364,     0.76364,     0.76364,     0.76364,     0.76364,     0.76364,     0.76364,     0.76364,     0.76364,     0.76364,     0.76364,     0.76364,     0.76364,     0.76364,     0.76364,     0.76364,     0.76364,     0.76364,     0.76364,\n",
              "            0.76364,     0.76364,     0.76364,     0.76364,     0.75439,     0.75439,     0.75439,     0.75439,     0.75439,     0.75439,     0.75439,     0.72131,     0.72131,     0.72131,     0.72131,     0.72131,     0.72131,     0.72131,     0.71429,     0.71429,     0.71429,     0.71429,     0.71429,\n",
              "            0.71429,     0.69697,     0.69697,     0.69697,     0.69697,     0.69697,     0.69697,     0.69697,     0.69565,     0.69565,     0.69565,     0.69565,     0.69565,     0.69565,     0.69565,     0.69565,     0.69565,     0.69565,     0.69565,     0.69565,     0.69565,     0.62025,     0.62025,\n",
              "            0.62025,     0.62025,     0.62025,     0.62025,     0.62025,     0.61728,     0.61728,     0.61728,     0.61728,     0.61728,     0.61728,     0.60227,     0.60227,     0.60227,     0.60227,     0.60227,     0.60227,     0.60227,     0.60227,     0.60227,     0.60227,     0.60227,     0.60227,\n",
              "            0.60227,     0.60227,     0.60227,     0.60227,     0.60227,     0.60227,     0.60227,     0.60227,         0.6,         0.6,         0.6,         0.6,         0.6,         0.6,         0.6,     0.58586,     0.58586,     0.58586,     0.58586,     0.58586,     0.58586,     0.58586,     0.58586,\n",
              "            0.58586,     0.58586,     0.58586,     0.58586,     0.58586,     0.58586,     0.58586,     0.58586,     0.58586,     0.58586,     0.58586,     0.58586,     0.58586,     0.58586,     0.58586,     0.58586,     0.58586,     0.58586,     0.58586,     0.58095,     0.58095,     0.58095,     0.58095,\n",
              "            0.58095,     0.58095,     0.58095,     0.58095,     0.58095,     0.58095,     0.58095,     0.58095,     0.58095,     0.58095,     0.58095,     0.58095,     0.58095,     0.58095,     0.58095,     0.58095,     0.52066,     0.52066,     0.52066,     0.52066,     0.52066,     0.52066,     0.52066,\n",
              "            0.52066,     0.52066,     0.52066,     0.52066,     0.52066,     0.52066,     0.49612,     0.49612,     0.49612,     0.49612,     0.49612,     0.49612,     0.49612,     0.49242,     0.49242,     0.49242,     0.49242,     0.49242,     0.49242,     0.48227,     0.48227,     0.48227,     0.48227,\n",
              "            0.48227,     0.48227,     0.48227,     0.48227,     0.48227,     0.48227,     0.48227,     0.48227,     0.48227,     0.48227,     0.48227,     0.48227,     0.48227,     0.48227,     0.48227,     0.48227,     0.47586,     0.47586,     0.47586,     0.47586,     0.47586,     0.47586,     0.47586,\n",
              "            0.47297,     0.47297,     0.47297,     0.47297,     0.47297,     0.47297,     0.47297,     0.46154,     0.46154,     0.46154,     0.46154,     0.46154,     0.46154,     0.46154,     0.46154,     0.46154,     0.46154,     0.46154,     0.46154,     0.46154,     0.45062,     0.45062,     0.45062,\n",
              "            0.45062,     0.45062,     0.45062,     0.45062,     0.43787,     0.43787,     0.43787,     0.43787,     0.43787,     0.43787,     0.43605,     0.43605,     0.43605,     0.43605,     0.43605,     0.43605,     0.43605,     0.42077,     0.42077,     0.42077,     0.42077,     0.42077,     0.42077,\n",
              "            0.42077,     0.42077,     0.42077,     0.42077,     0.42077,     0.42077,     0.42077,     0.41711,     0.41711,     0.41711,     0.41711,     0.41711,     0.41711,     0.41711,     0.41579,     0.41579,     0.41579,     0.41579,     0.41579,     0.41579,     0.41579,     0.41451,     0.41451,\n",
              "            0.41451,     0.41451,     0.41451,     0.41451,     0.41117,     0.41117,     0.41117,     0.41117,     0.41117,     0.41117,     0.41117,     0.40196,     0.40196,     0.40196,     0.40196,     0.40196,     0.40196,     0.40196,     0.40097,     0.40097,     0.40097,     0.40097,     0.40097,\n",
              "            0.40097,     0.37118,     0.37118,     0.37118,     0.37118,     0.37118,     0.37118,     0.37118,     0.37118,     0.37118,     0.37118,     0.37118,     0.37118,     0.37118,     0.37118,     0.37083,     0.37083,     0.37083,     0.37083,     0.37083,     0.37083,     0.37083,     0.37083,\n",
              "            0.37083,     0.37083,     0.37083,     0.37083,     0.37083,     0.37083,     0.37083,     0.37083,     0.37083,     0.37083,     0.37083,     0.37083,     0.37083,     0.37083,     0.37083,     0.37083,     0.37083,     0.37083,        0.36,        0.36,        0.36,        0.36,        0.36,\n",
              "               0.36,        0.36,     0.35271,     0.35271,     0.35271,     0.35271,     0.35271,     0.35271,     0.35271,     0.33948,     0.33948,     0.33948,     0.33948,     0.33948,     0.33948,      0.3218,      0.3218,      0.3218,      0.3218,      0.3218,      0.3218,      0.3218,     0.31023,\n",
              "            0.31023,     0.31023,     0.31023,     0.31023,     0.31023,     0.31023,     0.28875,     0.28875,     0.28875,     0.28875,     0.28875,     0.28875,     0.28698,     0.28698,     0.28698,     0.28698,     0.28698,     0.28698,     0.28698,     0.28698,     0.28698,     0.28698,     0.28698,\n",
              "            0.28698,     0.28698,     0.28698,     0.28324,     0.28324,     0.28324,     0.28324,     0.28324,     0.28324,     0.28205,     0.28205,     0.28205,     0.28205,     0.28205,     0.28205,     0.28205,      0.2809,      0.2809,      0.2809,      0.2809,      0.2809,      0.2809,     0.27671,\n",
              "            0.27671,     0.27671,     0.27671,     0.27671,     0.27671,     0.27671,     0.26984,     0.26984,     0.26984,     0.26984,     0.26984,     0.26984,     0.26984,     0.26823,     0.26823,     0.26823,     0.26823,     0.26823,     0.26823,     0.26667,     0.26667,     0.26667,     0.26667,\n",
              "            0.26667,     0.26667,     0.26667,     0.25862,     0.25862,     0.25862,     0.25862,     0.25862,     0.25862,     0.25862,     0.24594,     0.24594,     0.24594,     0.24594,     0.24594,     0.24594,     0.24161,     0.24161,     0.24161,     0.24161,     0.24161,     0.24161,     0.24161,\n",
              "            0.24161,     0.24161,     0.24161,     0.24161,     0.24161,     0.24161,     0.24161,     0.21124,     0.21124,     0.21124,     0.21124,     0.21124,     0.21124,     0.19366,     0.19366,     0.19366,     0.19366,     0.19366,     0.19366,     0.19366,     0.17863,     0.17863,     0.17863,\n",
              "            0.17863,     0.17863,     0.17863,     0.17863,     0.17863,     0.17863,     0.17863,     0.17863,     0.17863,     0.17863,     0.17411,     0.17411,     0.17411,     0.17411,     0.17411,     0.17411,     0.17411,     0.17247,     0.17247,     0.17247,     0.17247,     0.17247,     0.17247,\n",
              "            0.17247,     0.16618,     0.16618,     0.16618,     0.16618,     0.16618,     0.16618,      0.1589,      0.1589,      0.1589,      0.1589,      0.1589,      0.1589,      0.1589,     0.13102,     0.13102,     0.13102,     0.13102,     0.13102,     0.13102,     0.13102,     0.12647,     0.12647,\n",
              "            0.12647,     0.12647,     0.12647,     0.12647,     0.12487,     0.12487,     0.12487,     0.12487,     0.12487,     0.12487,     0.12487,     0.11964,     0.11964,     0.11964,     0.11964,     0.11964,     0.11964,     0.11964,     0.10901,     0.10901,     0.10901,     0.10901,     0.10901,\n",
              "            0.10901,    0.091113,    0.091113,    0.091113,    0.091113,    0.091113,    0.091113,    0.091113,    0.089001,    0.089001,    0.089001,    0.089001,    0.089001,    0.089001,    0.089001,    0.084861,    0.084861,    0.084861,    0.084861,    0.084861,    0.084861,    0.084861,    0.084861,\n",
              "           0.084861,    0.084861,    0.084861,    0.084861,    0.084861,     0.08361,     0.08361,     0.08361,     0.08361,     0.08361,     0.08361,     0.08361,    0.082361,    0.082361,    0.082361,    0.082361,    0.082361,    0.082361,    0.081581,    0.081581,    0.081581,    0.081581,    0.081581,\n",
              "           0.081581,    0.081581,    0.059283,    0.059283,    0.059283,    0.059283,    0.059283,    0.059283,    0.059283,    0.055225,    0.055225,    0.055225,    0.055225,    0.055225,    0.055225,    0.043725,    0.043725,    0.043725,    0.043725,    0.043725,    0.043725,    0.043725,    0.043393,\n",
              "           0.043393,    0.043393,    0.043393,    0.043393,    0.043393,    0.043393,    0.042601,    0.042601,    0.042601,    0.042601,    0.042601,    0.042601,    0.038517,    0.038517,    0.038517,    0.038517,    0.038517,    0.038517,    0.038517,    0.036996,    0.036996,    0.036996,    0.036996,\n",
              "           0.036996,    0.036996,    0.036996,    0.032327,    0.032327,    0.032327,    0.032327,    0.032327,    0.032327,    0.030397,    0.030397,    0.030397,    0.030397,    0.030397,    0.030397,    0.030397,    0.024683,    0.024683,    0.024683,    0.024683,    0.024683,    0.024683,    0.024683,\n",
              "           0.021348,    0.021348,    0.021348,    0.021348,    0.021348,    0.021348,    0.019202,    0.018939,    0.018676,    0.018413,     0.01815,    0.017887,    0.017624,    0.017361,    0.017098,    0.016835,    0.016572,    0.016309,    0.016046,    0.015783,     0.01552,    0.015257,    0.014994,\n",
              "           0.014731,    0.014468,    0.014204,    0.013941,    0.013678,    0.013415,    0.013152,    0.012889,    0.012626,    0.012363,      0.0121,    0.011837,    0.011574,    0.011311,    0.011048,    0.010785,    0.010522,    0.010259,   0.0099958,   0.0097327,   0.0094697,   0.0092066,   0.0089436,\n",
              "          0.0086805,   0.0084175,   0.0081544,   0.0078914,   0.0076283,   0.0073653,   0.0071022,   0.0068392,   0.0065762,   0.0063131,   0.0060501,    0.005787,    0.005524,   0.0052609,   0.0049979,   0.0047348,   0.0044718,   0.0042087,   0.0039457,   0.0036826,   0.0034196,   0.0031566,   0.0028935,\n",
              "          0.0026305,   0.0023674,   0.0021044,   0.0018413,   0.0015783,   0.0013152,   0.0010522,  0.00078914,  0.00052609,  0.00026305,           0]]), 'Recall', 'Precision'], [array([          0,    0.001001,    0.002002,    0.003003,    0.004004,    0.005005,    0.006006,    0.007007,    0.008008,    0.009009,     0.01001,    0.011011,    0.012012,    0.013013,    0.014014,    0.015015,    0.016016,    0.017017,    0.018018,    0.019019,     0.02002,    0.021021,    0.022022,    0.023023,\n",
              "          0.024024,    0.025025,    0.026026,    0.027027,    0.028028,    0.029029,     0.03003,    0.031031,    0.032032,    0.033033,    0.034034,    0.035035,    0.036036,    0.037037,    0.038038,    0.039039,     0.04004,    0.041041,    0.042042,    0.043043,    0.044044,    0.045045,    0.046046,    0.047047,\n",
              "          0.048048,    0.049049,     0.05005,    0.051051,    0.052052,    0.053053,    0.054054,    0.055055,    0.056056,    0.057057,    0.058058,    0.059059,     0.06006,    0.061061,    0.062062,    0.063063,    0.064064,    0.065065,    0.066066,    0.067067,    0.068068,    0.069069,     0.07007,    0.071071,\n",
              "          0.072072,    0.073073,    0.074074,    0.075075,    0.076076,    0.077077,    0.078078,    0.079079,     0.08008,    0.081081,    0.082082,    0.083083,    0.084084,    0.085085,    0.086086,    0.087087,    0.088088,    0.089089,     0.09009,    0.091091,    0.092092,    0.093093,    0.094094,    0.095095,\n",
              "          0.096096,    0.097097,    0.098098,    0.099099,      0.1001,      0.1011,      0.1021,      0.1031,      0.1041,     0.10511,     0.10611,     0.10711,     0.10811,     0.10911,     0.11011,     0.11111,     0.11211,     0.11311,     0.11411,     0.11512,     0.11612,     0.11712,     0.11812,     0.11912,\n",
              "           0.12012,     0.12112,     0.12212,     0.12312,     0.12412,     0.12513,     0.12613,     0.12713,     0.12813,     0.12913,     0.13013,     0.13113,     0.13213,     0.13313,     0.13413,     0.13514,     0.13614,     0.13714,     0.13814,     0.13914,     0.14014,     0.14114,     0.14214,     0.14314,\n",
              "           0.14414,     0.14515,     0.14615,     0.14715,     0.14815,     0.14915,     0.15015,     0.15115,     0.15215,     0.15315,     0.15415,     0.15516,     0.15616,     0.15716,     0.15816,     0.15916,     0.16016,     0.16116,     0.16216,     0.16316,     0.16416,     0.16517,     0.16617,     0.16717,\n",
              "           0.16817,     0.16917,     0.17017,     0.17117,     0.17217,     0.17317,     0.17417,     0.17518,     0.17618,     0.17718,     0.17818,     0.17918,     0.18018,     0.18118,     0.18218,     0.18318,     0.18418,     0.18519,     0.18619,     0.18719,     0.18819,     0.18919,     0.19019,     0.19119,\n",
              "           0.19219,     0.19319,     0.19419,      0.1952,      0.1962,      0.1972,      0.1982,      0.1992,      0.2002,      0.2012,      0.2022,      0.2032,      0.2042,     0.20521,     0.20621,     0.20721,     0.20821,     0.20921,     0.21021,     0.21121,     0.21221,     0.21321,     0.21421,     0.21522,\n",
              "           0.21622,     0.21722,     0.21822,     0.21922,     0.22022,     0.22122,     0.22222,     0.22322,     0.22422,     0.22523,     0.22623,     0.22723,     0.22823,     0.22923,     0.23023,     0.23123,     0.23223,     0.23323,     0.23423,     0.23524,     0.23624,     0.23724,     0.23824,     0.23924,\n",
              "           0.24024,     0.24124,     0.24224,     0.24324,     0.24424,     0.24525,     0.24625,     0.24725,     0.24825,     0.24925,     0.25025,     0.25125,     0.25225,     0.25325,     0.25425,     0.25526,     0.25626,     0.25726,     0.25826,     0.25926,     0.26026,     0.26126,     0.26226,     0.26326,\n",
              "           0.26426,     0.26527,     0.26627,     0.26727,     0.26827,     0.26927,     0.27027,     0.27127,     0.27227,     0.27327,     0.27427,     0.27528,     0.27628,     0.27728,     0.27828,     0.27928,     0.28028,     0.28128,     0.28228,     0.28328,     0.28428,     0.28529,     0.28629,     0.28729,\n",
              "           0.28829,     0.28929,     0.29029,     0.29129,     0.29229,     0.29329,     0.29429,      0.2953,      0.2963,      0.2973,      0.2983,      0.2993,      0.3003,      0.3013,      0.3023,      0.3033,      0.3043,     0.30531,     0.30631,     0.30731,     0.30831,     0.30931,     0.31031,     0.31131,\n",
              "           0.31231,     0.31331,     0.31431,     0.31532,     0.31632,     0.31732,     0.31832,     0.31932,     0.32032,     0.32132,     0.32232,     0.32332,     0.32432,     0.32533,     0.32633,     0.32733,     0.32833,     0.32933,     0.33033,     0.33133,     0.33233,     0.33333,     0.33433,     0.33534,\n",
              "           0.33634,     0.33734,     0.33834,     0.33934,     0.34034,     0.34134,     0.34234,     0.34334,     0.34434,     0.34535,     0.34635,     0.34735,     0.34835,     0.34935,     0.35035,     0.35135,     0.35235,     0.35335,     0.35435,     0.35536,     0.35636,     0.35736,     0.35836,     0.35936,\n",
              "           0.36036,     0.36136,     0.36236,     0.36336,     0.36436,     0.36537,     0.36637,     0.36737,     0.36837,     0.36937,     0.37037,     0.37137,     0.37237,     0.37337,     0.37437,     0.37538,     0.37638,     0.37738,     0.37838,     0.37938,     0.38038,     0.38138,     0.38238,     0.38338,\n",
              "           0.38438,     0.38539,     0.38639,     0.38739,     0.38839,     0.38939,     0.39039,     0.39139,     0.39239,     0.39339,     0.39439,      0.3954,      0.3964,      0.3974,      0.3984,      0.3994,      0.4004,      0.4014,      0.4024,      0.4034,      0.4044,     0.40541,     0.40641,     0.40741,\n",
              "           0.40841,     0.40941,     0.41041,     0.41141,     0.41241,     0.41341,     0.41441,     0.41542,     0.41642,     0.41742,     0.41842,     0.41942,     0.42042,     0.42142,     0.42242,     0.42342,     0.42442,     0.42543,     0.42643,     0.42743,     0.42843,     0.42943,     0.43043,     0.43143,\n",
              "           0.43243,     0.43343,     0.43443,     0.43544,     0.43644,     0.43744,     0.43844,     0.43944,     0.44044,     0.44144,     0.44244,     0.44344,     0.44444,     0.44545,     0.44645,     0.44745,     0.44845,     0.44945,     0.45045,     0.45145,     0.45245,     0.45345,     0.45445,     0.45546,\n",
              "           0.45646,     0.45746,     0.45846,     0.45946,     0.46046,     0.46146,     0.46246,     0.46346,     0.46446,     0.46547,     0.46647,     0.46747,     0.46847,     0.46947,     0.47047,     0.47147,     0.47247,     0.47347,     0.47447,     0.47548,     0.47648,     0.47748,     0.47848,     0.47948,\n",
              "           0.48048,     0.48148,     0.48248,     0.48348,     0.48448,     0.48549,     0.48649,     0.48749,     0.48849,     0.48949,     0.49049,     0.49149,     0.49249,     0.49349,     0.49449,      0.4955,      0.4965,      0.4975,      0.4985,      0.4995,      0.5005,      0.5015,      0.5025,      0.5035,\n",
              "            0.5045,     0.50551,     0.50651,     0.50751,     0.50851,     0.50951,     0.51051,     0.51151,     0.51251,     0.51351,     0.51451,     0.51552,     0.51652,     0.51752,     0.51852,     0.51952,     0.52052,     0.52152,     0.52252,     0.52352,     0.52452,     0.52553,     0.52653,     0.52753,\n",
              "           0.52853,     0.52953,     0.53053,     0.53153,     0.53253,     0.53353,     0.53453,     0.53554,     0.53654,     0.53754,     0.53854,     0.53954,     0.54054,     0.54154,     0.54254,     0.54354,     0.54454,     0.54555,     0.54655,     0.54755,     0.54855,     0.54955,     0.55055,     0.55155,\n",
              "           0.55255,     0.55355,     0.55455,     0.55556,     0.55656,     0.55756,     0.55856,     0.55956,     0.56056,     0.56156,     0.56256,     0.56356,     0.56456,     0.56557,     0.56657,     0.56757,     0.56857,     0.56957,     0.57057,     0.57157,     0.57257,     0.57357,     0.57457,     0.57558,\n",
              "           0.57658,     0.57758,     0.57858,     0.57958,     0.58058,     0.58158,     0.58258,     0.58358,     0.58458,     0.58559,     0.58659,     0.58759,     0.58859,     0.58959,     0.59059,     0.59159,     0.59259,     0.59359,     0.59459,      0.5956,      0.5966,      0.5976,      0.5986,      0.5996,\n",
              "            0.6006,      0.6016,      0.6026,      0.6036,      0.6046,     0.60561,     0.60661,     0.60761,     0.60861,     0.60961,     0.61061,     0.61161,     0.61261,     0.61361,     0.61461,     0.61562,     0.61662,     0.61762,     0.61862,     0.61962,     0.62062,     0.62162,     0.62262,     0.62362,\n",
              "           0.62462,     0.62563,     0.62663,     0.62763,     0.62863,     0.62963,     0.63063,     0.63163,     0.63263,     0.63363,     0.63463,     0.63564,     0.63664,     0.63764,     0.63864,     0.63964,     0.64064,     0.64164,     0.64264,     0.64364,     0.64464,     0.64565,     0.64665,     0.64765,\n",
              "           0.64865,     0.64965,     0.65065,     0.65165,     0.65265,     0.65365,     0.65465,     0.65566,     0.65666,     0.65766,     0.65866,     0.65966,     0.66066,     0.66166,     0.66266,     0.66366,     0.66466,     0.66567,     0.66667,     0.66767,     0.66867,     0.66967,     0.67067,     0.67167,\n",
              "           0.67267,     0.67367,     0.67467,     0.67568,     0.67668,     0.67768,     0.67868,     0.67968,     0.68068,     0.68168,     0.68268,     0.68368,     0.68468,     0.68569,     0.68669,     0.68769,     0.68869,     0.68969,     0.69069,     0.69169,     0.69269,     0.69369,     0.69469,      0.6957,\n",
              "            0.6967,      0.6977,      0.6987,      0.6997,      0.7007,      0.7017,      0.7027,      0.7037,      0.7047,     0.70571,     0.70671,     0.70771,     0.70871,     0.70971,     0.71071,     0.71171,     0.71271,     0.71371,     0.71471,     0.71572,     0.71672,     0.71772,     0.71872,     0.71972,\n",
              "           0.72072,     0.72172,     0.72272,     0.72372,     0.72472,     0.72573,     0.72673,     0.72773,     0.72873,     0.72973,     0.73073,     0.73173,     0.73273,     0.73373,     0.73473,     0.73574,     0.73674,     0.73774,     0.73874,     0.73974,     0.74074,     0.74174,     0.74274,     0.74374,\n",
              "           0.74474,     0.74575,     0.74675,     0.74775,     0.74875,     0.74975,     0.75075,     0.75175,     0.75275,     0.75375,     0.75475,     0.75576,     0.75676,     0.75776,     0.75876,     0.75976,     0.76076,     0.76176,     0.76276,     0.76376,     0.76476,     0.76577,     0.76677,     0.76777,\n",
              "           0.76877,     0.76977,     0.77077,     0.77177,     0.77277,     0.77377,     0.77477,     0.77578,     0.77678,     0.77778,     0.77878,     0.77978,     0.78078,     0.78178,     0.78278,     0.78378,     0.78478,     0.78579,     0.78679,     0.78779,     0.78879,     0.78979,     0.79079,     0.79179,\n",
              "           0.79279,     0.79379,     0.79479,      0.7958,      0.7968,      0.7978,      0.7988,      0.7998,      0.8008,      0.8018,      0.8028,      0.8038,      0.8048,     0.80581,     0.80681,     0.80781,     0.80881,     0.80981,     0.81081,     0.81181,     0.81281,     0.81381,     0.81481,     0.81582,\n",
              "           0.81682,     0.81782,     0.81882,     0.81982,     0.82082,     0.82182,     0.82282,     0.82382,     0.82482,     0.82583,     0.82683,     0.82783,     0.82883,     0.82983,     0.83083,     0.83183,     0.83283,     0.83383,     0.83483,     0.83584,     0.83684,     0.83784,     0.83884,     0.83984,\n",
              "           0.84084,     0.84184,     0.84284,     0.84384,     0.84484,     0.84585,     0.84685,     0.84785,     0.84885,     0.84985,     0.85085,     0.85185,     0.85285,     0.85385,     0.85485,     0.85586,     0.85686,     0.85786,     0.85886,     0.85986,     0.86086,     0.86186,     0.86286,     0.86386,\n",
              "           0.86486,     0.86587,     0.86687,     0.86787,     0.86887,     0.86987,     0.87087,     0.87187,     0.87287,     0.87387,     0.87487,     0.87588,     0.87688,     0.87788,     0.87888,     0.87988,     0.88088,     0.88188,     0.88288,     0.88388,     0.88488,     0.88589,     0.88689,     0.88789,\n",
              "           0.88889,     0.88989,     0.89089,     0.89189,     0.89289,     0.89389,     0.89489,      0.8959,      0.8969,      0.8979,      0.8989,      0.8999,      0.9009,      0.9019,      0.9029,      0.9039,      0.9049,     0.90591,     0.90691,     0.90791,     0.90891,     0.90991,     0.91091,     0.91191,\n",
              "           0.91291,     0.91391,     0.91491,     0.91592,     0.91692,     0.91792,     0.91892,     0.91992,     0.92092,     0.92192,     0.92292,     0.92392,     0.92492,     0.92593,     0.92693,     0.92793,     0.92893,     0.92993,     0.93093,     0.93193,     0.93293,     0.93393,     0.93493,     0.93594,\n",
              "           0.93694,     0.93794,     0.93894,     0.93994,     0.94094,     0.94194,     0.94294,     0.94394,     0.94494,     0.94595,     0.94695,     0.94795,     0.94895,     0.94995,     0.95095,     0.95195,     0.95295,     0.95395,     0.95495,     0.95596,     0.95696,     0.95796,     0.95896,     0.95996,\n",
              "           0.96096,     0.96196,     0.96296,     0.96396,     0.96496,     0.96597,     0.96697,     0.96797,     0.96897,     0.96997,     0.97097,     0.97197,     0.97297,     0.97397,     0.97497,     0.97598,     0.97698,     0.97798,     0.97898,     0.97998,     0.98098,     0.98198,     0.98298,     0.98398,\n",
              "           0.98498,     0.98599,     0.98699,     0.98799,     0.98899,     0.98999,     0.99099,     0.99199,     0.99299,     0.99399,     0.99499,       0.996,       0.997,       0.998,       0.999,           1]), array([[   0.037756,    0.037803,    0.047775,    0.059027,    0.071637,    0.082967,    0.094001,     0.10394,     0.11333,     0.12474,     0.13326,      0.1414,     0.14938,     0.15335,     0.15959,     0.16632,     0.17472,     0.18138,     0.18854,     0.19248,     0.20067,     0.20683,     0.21191,\n",
              "            0.21571,      0.2192,     0.22365,     0.22827,     0.23219,     0.23969,     0.24443,     0.25048,     0.25725,     0.26065,     0.26348,     0.26746,     0.27065,     0.27254,     0.27667,     0.28047,     0.28108,     0.28113,      0.2844,     0.28768,     0.28541,     0.28661,      0.2923,\n",
              "            0.29753,     0.30118,     0.30572,     0.30708,     0.31099,     0.31314,     0.31827,     0.32224,     0.32468,     0.32681,     0.32883,     0.33128,     0.33611,     0.33842,     0.34052,     0.34216,     0.34467,     0.34673,     0.34991,     0.35115,     0.35397,     0.35789,     0.36127,\n",
              "            0.35769,     0.35914,     0.36202,     0.36487,     0.36466,     0.36628,     0.36855,     0.37215,     0.37566,     0.37743,     0.37696,     0.38166,     0.38482,     0.38388,     0.38549,     0.38416,     0.38367,     0.38527,     0.38492,      0.3851,     0.38678,     0.39025,     0.38917,\n",
              "            0.39237,     0.39509,     0.39328,     0.39454,     0.39442,     0.39508,     0.39518,     0.39449,     0.39192,     0.39248,      0.3939,     0.39459,     0.39519,     0.39605,     0.39655,     0.39357,     0.39709,     0.39905,     0.40258,     0.40469,     0.40577,     0.40885,     0.41009,\n",
              "            0.41095,      0.4122,     0.41291,      0.4135,     0.41405,     0.41284,       0.413,     0.41408,     0.41576,     0.41756,     0.41989,     0.42292,     0.42342,     0.42183,     0.42102,     0.42561,     0.42727,     0.43098,     0.43275,     0.43407,     0.43432,     0.43456,      0.4348,\n",
              "            0.43583,     0.43703,     0.43542,     0.43695,     0.43758,     0.43806,     0.43854,     0.43916,     0.44071,     0.44198,     0.44354,     0.44443,     0.44581,     0.44243,     0.44285,     0.44328,     0.44511,     0.44672,     0.44725,     0.44778,     0.44813,     0.44848,     0.44884,\n",
              "            0.44978,     0.44667,     0.44816,     0.45089,     0.45125,     0.45161,     0.45214,     0.45281,     0.45444,     0.45488,     0.45553,     0.44855,     0.45008,     0.45095,     0.45146,     0.44799,     0.44548,     0.44602,       0.447,     0.44803,     0.44544,     0.44181,     0.44277,\n",
              "            0.44328,     0.44379,     0.44414,     0.44446,     0.44479,      0.4452,      0.4459,     0.44726,     0.45169,     0.45495,     0.45779,     0.45864,     0.45893,     0.45921,      0.4595,     0.45979,     0.46292,     0.46071,     0.46177,     0.46314,     0.46135,     0.45957,     0.46006,\n",
              "            0.46318,     0.46433,      0.4657,     0.46622,     0.46675,     0.46508,      0.4628,     0.46277,     0.46318,     0.46358,     0.46404,     0.46454,     0.46505,     0.46341,     0.46365,      0.4639,     0.46415,      0.4644,     0.46465,     0.46398,     0.46303,     0.46208,     0.46112,\n",
              "            0.46018,     0.46051,     0.46084,     0.46116,     0.46149,     0.46208,      0.4627,     0.46144,     0.45924,     0.45944,     0.46012,     0.46061,     0.46113,     0.46208,     0.46153,     0.45995,     0.45836,      0.4536,     0.45361,     0.45408,     0.45593,     0.45688,     0.45745,\n",
              "            0.45769,     0.45793,     0.45816,      0.4584,     0.45864,     0.46004,     0.46303,     0.46334,     0.46365,     0.46396,     0.46427,     0.46454,     0.46477,     0.46501,     0.46525,     0.46548,     0.46572,     0.46422,     0.46109,     0.46208,     0.46283,     0.46085,     0.45937,\n",
              "            0.46368,     0.46414,     0.46461,      0.4652,     0.46621,     0.46673,     0.46709,     0.46745,     0.46781,      0.4638,     0.46323,     0.46347,      0.4637,     0.46394,     0.46417,     0.46441,     0.46563,     0.46652,     0.46714,     0.46787,     0.46876,     0.46947,      0.4701,\n",
              "            0.46992,     0.46699,     0.46199,     0.46123,     0.46222,     0.46373,     0.46419,     0.46464,     0.46509,     0.46709,     0.46755,     0.46801,      0.4687,     0.46659,     0.46623,     0.46647,      0.4667,     0.46693,     0.46716,     0.46739,     0.46762,     0.46601,     0.46343,\n",
              "            0.46437,     0.46476,     0.46514,     0.46552,     0.46641,      0.4643,      0.4632,      0.4621,     0.45992,     0.45859,     0.45953,     0.45923,     0.45801,     0.45678,     0.45555,     0.45484,     0.45633,     0.45727,     0.45798,     0.45846,     0.45893,      0.4595,     0.46088,\n",
              "            0.45987,     0.45884,     0.45782,      0.4568,     0.45578,     0.45622,     0.45874,     0.45748,     0.45622,     0.45495,     0.45369,     0.45347,     0.45382,     0.45417,     0.45452,     0.45488,     0.45536,     0.45584,     0.45633,     0.45679,     0.45725,      0.4577,     0.45815,\n",
              "            0.45837,     0.45857,     0.45878,     0.45898,     0.45918,     0.45938,     0.45958,     0.45978,     0.46097,     0.46196,      0.4626,     0.46323,     0.45924,     0.45768,     0.45612,     0.45455,     0.45715,      0.4578,     0.45843,     0.45885,     0.45916,     0.45947,     0.45978,\n",
              "            0.46009,     0.46048,     0.46216,     0.46264,     0.46312,      0.4636,     0.46399,     0.46426,     0.46453,      0.4648,     0.46507,     0.46534,     0.46561,     0.46642,     0.46733,     0.46778,     0.46817,     0.46856,     0.46894,      0.4697,     0.47108,      0.4712,     0.47132,\n",
              "            0.47144,     0.47156,     0.47168,      0.4718,     0.47192,     0.47204,     0.47217,     0.47229,     0.47241,     0.47253,     0.47265,     0.47277,     0.47297,      0.4736,     0.47423,     0.47485,     0.47549,     0.47612,     0.47657,      0.4717,     0.46946,      0.4672,     0.46506,\n",
              "            0.46299,      0.4609,     0.46044,     0.46061,     0.46078,     0.46096,     0.46113,      0.4613,     0.46147,     0.46164,     0.46181,     0.46198,     0.46215,     0.46585,     0.46504,     0.46422,      0.4634,     0.46258,     0.46177,     0.46095,     0.46013,     0.45824,     0.45504,\n",
              "            0.45264,     0.45103,     0.44942,     0.44781,     0.44522,     0.44197,     0.44142,     0.44234,     0.44274,     0.44291,     0.44308,     0.44325,     0.44342,     0.44359,     0.44376,     0.44393,      0.4441,     0.44427,     0.44444,     0.44456,     0.44468,     0.44479,     0.44491,\n",
              "            0.44503,     0.44515,     0.44527,     0.44538,      0.4455,     0.44562,     0.44574,     0.44585,     0.44597,     0.44609,     0.44621,     0.44651,     0.44714,     0.44777,     0.44895,       0.447,     0.44357,     0.44368,     0.44379,     0.44391,     0.44402,     0.44413,     0.44425,\n",
              "            0.44436,     0.44447,     0.44458,     0.44469,     0.44481,     0.44492,     0.44503,     0.44514,     0.44525,     0.44537,      0.4358,     0.43241,      0.4276,     0.42826,     0.42919,     0.42933,     0.42948,     0.42963,     0.42977,     0.42992,     0.43007,     0.43021,     0.43036,\n",
              "             0.4305,     0.43065,     0.43079,     0.43094,     0.43113,      0.4314,     0.43167,     0.43195,     0.43222,     0.43249,     0.43277,     0.43232,     0.43116,     0.42999,     0.42883,     0.42766,      0.4265,     0.42629,     0.42661,     0.42693,     0.42725,     0.42757,     0.42788,\n",
              "             0.4272,     0.42626,     0.42532,     0.42438,     0.42343,     0.42249,     0.42155,     0.42196,     0.42315,     0.42363,     0.42411,     0.42459,     0.42536,     0.42633,     0.42921,      0.4302,      0.4329,     0.43357,     0.43424,     0.43595,     0.43718,      0.4382,      0.4363,\n",
              "            0.43385,      0.4314,      0.4244,     0.42439,     0.42484,     0.42528,     0.42573,     0.42079,     0.42119,      0.4216,       0.422,      0.4224,      0.4218,     0.42072,     0.41963,     0.41854,     0.41745,     0.41636,     0.41527,     0.41519,      0.4153,     0.41542,     0.41553,\n",
              "            0.41564,     0.41575,     0.41587,     0.41598,     0.41609,      0.4162,     0.41631,     0.41643,     0.41654,     0.41665,     0.41676,     0.41687,     0.41698,     0.41691,     0.41636,      0.4158,     0.41525,      0.4147,     0.41415,      0.4136,     0.41305,      0.4125,     0.41194,\n",
              "            0.41139,     0.41084,     0.41028,     0.40973,     0.40971,     0.40999,     0.41028,     0.41057,     0.41086,     0.41114,     0.41143,     0.41213,     0.41294,     0.41352,     0.41368,     0.41384,       0.414,     0.41415,     0.41431,     0.41447,     0.41463,     0.41478,     0.41494,\n",
              "             0.4151,     0.41525,     0.41541,     0.41464,     0.41343,     0.41222,     0.41101,     0.40979,     0.40858,     0.40784,     0.40807,      0.4083,     0.40853,     0.40876,     0.40898,     0.40921,     0.40943,     0.40966,     0.40192,     0.40133,     0.40073,     0.40013,     0.39954,\n",
              "            0.39894,     0.39834,     0.39774,     0.39715,     0.39655,     0.39595,     0.39535,     0.39475,     0.39415,      0.3868,     0.38398,     0.38163,     0.37928,     0.37014,     0.37041,     0.37069,     0.37096,     0.37123,      0.3715,     0.37177,     0.37194,     0.37206,     0.37218,\n",
              "            0.37229,     0.37241,     0.37253,     0.37265,     0.37276,     0.37288,       0.373,     0.37311,     0.37323,     0.37334,     0.37346,     0.37357,     0.37369,     0.37381,     0.37393,     0.37405,     0.37416,     0.37428,      0.3744,     0.37452,     0.37464,     0.37476,     0.37487,\n",
              "            0.37499,     0.37511,     0.37522,     0.37534,     0.37546,     0.37557,     0.37482,     0.37312,     0.37143,     0.36973,     0.36802,     0.36661,     0.36539,     0.36416,     0.36294,     0.36171,     0.36048,     0.35925,     0.35866,     0.35826,     0.35786,     0.35746,     0.35705,\n",
              "            0.35665,     0.35625,     0.35585,     0.35544,     0.35504,     0.35464,     0.35423,     0.35383,     0.35343,     0.35302,     0.35262,     0.35221,     0.35181,     0.35141,       0.351,      0.3506,     0.34912,     0.34737,     0.34562,     0.34387,     0.34211,     0.33654,     0.33361,\n",
              "            0.33421,      0.3348,     0.32606,     0.32557,     0.32508,     0.32459,      0.3241,     0.32361,     0.32312,     0.32263,     0.32214,     0.32165,     0.32116,     0.32067,     0.32017,     0.31968,     0.31919,      0.3187,     0.31821,     0.31772,     0.31673,      0.3152,     0.31367,\n",
              "            0.31214,     0.31061,     0.30908,     0.30463,     0.29931,     0.29838,     0.29744,     0.29651,     0.29557,     0.29463,      0.2937,     0.29276,     0.29182,     0.29088,     0.28992,     0.28892,     0.28793,     0.28693,     0.28593,     0.28494,     0.28394,     0.28294,     0.28194,\n",
              "            0.28111,     0.28132,     0.28154,     0.28175,     0.28195,     0.28216,     0.28237,     0.28257,     0.28278,     0.28298,     0.28318,     0.28337,     0.28357,     0.28377,     0.28396,     0.28415,     0.28425,     0.28435,     0.28444,     0.28454,     0.28463,     0.28473,     0.28482,\n",
              "            0.28492,     0.28501,     0.28511,      0.2852,     0.28529,     0.28539,     0.28548,     0.28557,     0.28566,     0.28451,     0.28174,     0.27897,     0.27616,     0.27225,     0.26832,     0.26599,     0.26483,     0.26366,     0.26249,     0.26133,     0.26016,     0.25899,     0.25782,\n",
              "            0.25701,     0.25711,     0.25721,     0.25732,     0.25742,     0.25751,     0.25761,     0.25771,     0.25781,     0.25791,     0.25801,      0.2581,      0.2582,      0.2583,     0.25839,     0.25792,     0.25715,     0.25637,      0.2556,     0.25483,     0.25405,     0.25327,      0.2525,\n",
              "            0.25172,     0.25094,     0.25017,     0.24939,     0.24861,     0.24865,     0.24871,     0.24877,     0.24883,     0.24889,     0.24895,     0.24901,     0.24907,     0.24913,     0.24919,     0.24925,     0.24931,     0.24937,     0.24942,     0.24948,     0.24954,      0.2496,     0.24966,\n",
              "            0.24972,     0.24977,     0.24983,     0.24989,     0.24995,     0.24996,     0.24936,     0.24876,     0.24816,     0.24755,     0.24695,     0.24635,     0.24575,     0.24515,     0.24454,     0.24394,     0.24334,     0.24273,     0.24213,     0.24152,     0.24092,     0.24031,     0.22819,\n",
              "             0.2247,      0.2212,     0.21818,     0.21553,     0.21288,     0.21022,      0.2098,     0.20549,     0.20117,     0.18904,     0.18774,     0.18645,     0.18515,     0.18385,     0.18255,     0.18125,     0.17994,     0.17864,       0.168,     0.16867,     0.16776,     0.16395,     0.16013,\n",
              "             0.1575,     0.15573,     0.15395,     0.15217,     0.15038,      0.1486,      0.1468,     0.14501,     0.14321,     0.14141,      0.1396,     0.13779,     0.13598,     0.12428,     0.12441,     0.12454,     0.12466,     0.12478,     0.12489,     0.12471,      0.1207,     0.11667,     0.11276,\n",
              "            0.10972,     0.10666,     0.10359,     0.10111,     0.10048,    0.099848,    0.099215,    0.098582,    0.097948,    0.097314,    0.096679,    0.096044,    0.095409,    0.094773,    0.094137,      0.0935,    0.092863,    0.092226,    0.091588,    0.090949,    0.090311,    0.089671,    0.088781,\n",
              "           0.086997,    0.085209,    0.083417,    0.081623,    0.079825,    0.078023,    0.067013,    0.049257,    0.042734,     0.03311,           0]]), 'Confidence', 'F1'], [array([          0,    0.001001,    0.002002,    0.003003,    0.004004,    0.005005,    0.006006,    0.007007,    0.008008,    0.009009,     0.01001,    0.011011,    0.012012,    0.013013,    0.014014,    0.015015,    0.016016,    0.017017,    0.018018,    0.019019,     0.02002,    0.021021,    0.022022,    0.023023,\n",
              "          0.024024,    0.025025,    0.026026,    0.027027,    0.028028,    0.029029,     0.03003,    0.031031,    0.032032,    0.033033,    0.034034,    0.035035,    0.036036,    0.037037,    0.038038,    0.039039,     0.04004,    0.041041,    0.042042,    0.043043,    0.044044,    0.045045,    0.046046,    0.047047,\n",
              "          0.048048,    0.049049,     0.05005,    0.051051,    0.052052,    0.053053,    0.054054,    0.055055,    0.056056,    0.057057,    0.058058,    0.059059,     0.06006,    0.061061,    0.062062,    0.063063,    0.064064,    0.065065,    0.066066,    0.067067,    0.068068,    0.069069,     0.07007,    0.071071,\n",
              "          0.072072,    0.073073,    0.074074,    0.075075,    0.076076,    0.077077,    0.078078,    0.079079,     0.08008,    0.081081,    0.082082,    0.083083,    0.084084,    0.085085,    0.086086,    0.087087,    0.088088,    0.089089,     0.09009,    0.091091,    0.092092,    0.093093,    0.094094,    0.095095,\n",
              "          0.096096,    0.097097,    0.098098,    0.099099,      0.1001,      0.1011,      0.1021,      0.1031,      0.1041,     0.10511,     0.10611,     0.10711,     0.10811,     0.10911,     0.11011,     0.11111,     0.11211,     0.11311,     0.11411,     0.11512,     0.11612,     0.11712,     0.11812,     0.11912,\n",
              "           0.12012,     0.12112,     0.12212,     0.12312,     0.12412,     0.12513,     0.12613,     0.12713,     0.12813,     0.12913,     0.13013,     0.13113,     0.13213,     0.13313,     0.13413,     0.13514,     0.13614,     0.13714,     0.13814,     0.13914,     0.14014,     0.14114,     0.14214,     0.14314,\n",
              "           0.14414,     0.14515,     0.14615,     0.14715,     0.14815,     0.14915,     0.15015,     0.15115,     0.15215,     0.15315,     0.15415,     0.15516,     0.15616,     0.15716,     0.15816,     0.15916,     0.16016,     0.16116,     0.16216,     0.16316,     0.16416,     0.16517,     0.16617,     0.16717,\n",
              "           0.16817,     0.16917,     0.17017,     0.17117,     0.17217,     0.17317,     0.17417,     0.17518,     0.17618,     0.17718,     0.17818,     0.17918,     0.18018,     0.18118,     0.18218,     0.18318,     0.18418,     0.18519,     0.18619,     0.18719,     0.18819,     0.18919,     0.19019,     0.19119,\n",
              "           0.19219,     0.19319,     0.19419,      0.1952,      0.1962,      0.1972,      0.1982,      0.1992,      0.2002,      0.2012,      0.2022,      0.2032,      0.2042,     0.20521,     0.20621,     0.20721,     0.20821,     0.20921,     0.21021,     0.21121,     0.21221,     0.21321,     0.21421,     0.21522,\n",
              "           0.21622,     0.21722,     0.21822,     0.21922,     0.22022,     0.22122,     0.22222,     0.22322,     0.22422,     0.22523,     0.22623,     0.22723,     0.22823,     0.22923,     0.23023,     0.23123,     0.23223,     0.23323,     0.23423,     0.23524,     0.23624,     0.23724,     0.23824,     0.23924,\n",
              "           0.24024,     0.24124,     0.24224,     0.24324,     0.24424,     0.24525,     0.24625,     0.24725,     0.24825,     0.24925,     0.25025,     0.25125,     0.25225,     0.25325,     0.25425,     0.25526,     0.25626,     0.25726,     0.25826,     0.25926,     0.26026,     0.26126,     0.26226,     0.26326,\n",
              "           0.26426,     0.26527,     0.26627,     0.26727,     0.26827,     0.26927,     0.27027,     0.27127,     0.27227,     0.27327,     0.27427,     0.27528,     0.27628,     0.27728,     0.27828,     0.27928,     0.28028,     0.28128,     0.28228,     0.28328,     0.28428,     0.28529,     0.28629,     0.28729,\n",
              "           0.28829,     0.28929,     0.29029,     0.29129,     0.29229,     0.29329,     0.29429,      0.2953,      0.2963,      0.2973,      0.2983,      0.2993,      0.3003,      0.3013,      0.3023,      0.3033,      0.3043,     0.30531,     0.30631,     0.30731,     0.30831,     0.30931,     0.31031,     0.31131,\n",
              "           0.31231,     0.31331,     0.31431,     0.31532,     0.31632,     0.31732,     0.31832,     0.31932,     0.32032,     0.32132,     0.32232,     0.32332,     0.32432,     0.32533,     0.32633,     0.32733,     0.32833,     0.32933,     0.33033,     0.33133,     0.33233,     0.33333,     0.33433,     0.33534,\n",
              "           0.33634,     0.33734,     0.33834,     0.33934,     0.34034,     0.34134,     0.34234,     0.34334,     0.34434,     0.34535,     0.34635,     0.34735,     0.34835,     0.34935,     0.35035,     0.35135,     0.35235,     0.35335,     0.35435,     0.35536,     0.35636,     0.35736,     0.35836,     0.35936,\n",
              "           0.36036,     0.36136,     0.36236,     0.36336,     0.36436,     0.36537,     0.36637,     0.36737,     0.36837,     0.36937,     0.37037,     0.37137,     0.37237,     0.37337,     0.37437,     0.37538,     0.37638,     0.37738,     0.37838,     0.37938,     0.38038,     0.38138,     0.38238,     0.38338,\n",
              "           0.38438,     0.38539,     0.38639,     0.38739,     0.38839,     0.38939,     0.39039,     0.39139,     0.39239,     0.39339,     0.39439,      0.3954,      0.3964,      0.3974,      0.3984,      0.3994,      0.4004,      0.4014,      0.4024,      0.4034,      0.4044,     0.40541,     0.40641,     0.40741,\n",
              "           0.40841,     0.40941,     0.41041,     0.41141,     0.41241,     0.41341,     0.41441,     0.41542,     0.41642,     0.41742,     0.41842,     0.41942,     0.42042,     0.42142,     0.42242,     0.42342,     0.42442,     0.42543,     0.42643,     0.42743,     0.42843,     0.42943,     0.43043,     0.43143,\n",
              "           0.43243,     0.43343,     0.43443,     0.43544,     0.43644,     0.43744,     0.43844,     0.43944,     0.44044,     0.44144,     0.44244,     0.44344,     0.44444,     0.44545,     0.44645,     0.44745,     0.44845,     0.44945,     0.45045,     0.45145,     0.45245,     0.45345,     0.45445,     0.45546,\n",
              "           0.45646,     0.45746,     0.45846,     0.45946,     0.46046,     0.46146,     0.46246,     0.46346,     0.46446,     0.46547,     0.46647,     0.46747,     0.46847,     0.46947,     0.47047,     0.47147,     0.47247,     0.47347,     0.47447,     0.47548,     0.47648,     0.47748,     0.47848,     0.47948,\n",
              "           0.48048,     0.48148,     0.48248,     0.48348,     0.48448,     0.48549,     0.48649,     0.48749,     0.48849,     0.48949,     0.49049,     0.49149,     0.49249,     0.49349,     0.49449,      0.4955,      0.4965,      0.4975,      0.4985,      0.4995,      0.5005,      0.5015,      0.5025,      0.5035,\n",
              "            0.5045,     0.50551,     0.50651,     0.50751,     0.50851,     0.50951,     0.51051,     0.51151,     0.51251,     0.51351,     0.51451,     0.51552,     0.51652,     0.51752,     0.51852,     0.51952,     0.52052,     0.52152,     0.52252,     0.52352,     0.52452,     0.52553,     0.52653,     0.52753,\n",
              "           0.52853,     0.52953,     0.53053,     0.53153,     0.53253,     0.53353,     0.53453,     0.53554,     0.53654,     0.53754,     0.53854,     0.53954,     0.54054,     0.54154,     0.54254,     0.54354,     0.54454,     0.54555,     0.54655,     0.54755,     0.54855,     0.54955,     0.55055,     0.55155,\n",
              "           0.55255,     0.55355,     0.55455,     0.55556,     0.55656,     0.55756,     0.55856,     0.55956,     0.56056,     0.56156,     0.56256,     0.56356,     0.56456,     0.56557,     0.56657,     0.56757,     0.56857,     0.56957,     0.57057,     0.57157,     0.57257,     0.57357,     0.57457,     0.57558,\n",
              "           0.57658,     0.57758,     0.57858,     0.57958,     0.58058,     0.58158,     0.58258,     0.58358,     0.58458,     0.58559,     0.58659,     0.58759,     0.58859,     0.58959,     0.59059,     0.59159,     0.59259,     0.59359,     0.59459,      0.5956,      0.5966,      0.5976,      0.5986,      0.5996,\n",
              "            0.6006,      0.6016,      0.6026,      0.6036,      0.6046,     0.60561,     0.60661,     0.60761,     0.60861,     0.60961,     0.61061,     0.61161,     0.61261,     0.61361,     0.61461,     0.61562,     0.61662,     0.61762,     0.61862,     0.61962,     0.62062,     0.62162,     0.62262,     0.62362,\n",
              "           0.62462,     0.62563,     0.62663,     0.62763,     0.62863,     0.62963,     0.63063,     0.63163,     0.63263,     0.63363,     0.63463,     0.63564,     0.63664,     0.63764,     0.63864,     0.63964,     0.64064,     0.64164,     0.64264,     0.64364,     0.64464,     0.64565,     0.64665,     0.64765,\n",
              "           0.64865,     0.64965,     0.65065,     0.65165,     0.65265,     0.65365,     0.65465,     0.65566,     0.65666,     0.65766,     0.65866,     0.65966,     0.66066,     0.66166,     0.66266,     0.66366,     0.66466,     0.66567,     0.66667,     0.66767,     0.66867,     0.66967,     0.67067,     0.67167,\n",
              "           0.67267,     0.67367,     0.67467,     0.67568,     0.67668,     0.67768,     0.67868,     0.67968,     0.68068,     0.68168,     0.68268,     0.68368,     0.68468,     0.68569,     0.68669,     0.68769,     0.68869,     0.68969,     0.69069,     0.69169,     0.69269,     0.69369,     0.69469,      0.6957,\n",
              "            0.6967,      0.6977,      0.6987,      0.6997,      0.7007,      0.7017,      0.7027,      0.7037,      0.7047,     0.70571,     0.70671,     0.70771,     0.70871,     0.70971,     0.71071,     0.71171,     0.71271,     0.71371,     0.71471,     0.71572,     0.71672,     0.71772,     0.71872,     0.71972,\n",
              "           0.72072,     0.72172,     0.72272,     0.72372,     0.72472,     0.72573,     0.72673,     0.72773,     0.72873,     0.72973,     0.73073,     0.73173,     0.73273,     0.73373,     0.73473,     0.73574,     0.73674,     0.73774,     0.73874,     0.73974,     0.74074,     0.74174,     0.74274,     0.74374,\n",
              "           0.74474,     0.74575,     0.74675,     0.74775,     0.74875,     0.74975,     0.75075,     0.75175,     0.75275,     0.75375,     0.75475,     0.75576,     0.75676,     0.75776,     0.75876,     0.75976,     0.76076,     0.76176,     0.76276,     0.76376,     0.76476,     0.76577,     0.76677,     0.76777,\n",
              "           0.76877,     0.76977,     0.77077,     0.77177,     0.77277,     0.77377,     0.77477,     0.77578,     0.77678,     0.77778,     0.77878,     0.77978,     0.78078,     0.78178,     0.78278,     0.78378,     0.78478,     0.78579,     0.78679,     0.78779,     0.78879,     0.78979,     0.79079,     0.79179,\n",
              "           0.79279,     0.79379,     0.79479,      0.7958,      0.7968,      0.7978,      0.7988,      0.7998,      0.8008,      0.8018,      0.8028,      0.8038,      0.8048,     0.80581,     0.80681,     0.80781,     0.80881,     0.80981,     0.81081,     0.81181,     0.81281,     0.81381,     0.81481,     0.81582,\n",
              "           0.81682,     0.81782,     0.81882,     0.81982,     0.82082,     0.82182,     0.82282,     0.82382,     0.82482,     0.82583,     0.82683,     0.82783,     0.82883,     0.82983,     0.83083,     0.83183,     0.83283,     0.83383,     0.83483,     0.83584,     0.83684,     0.83784,     0.83884,     0.83984,\n",
              "           0.84084,     0.84184,     0.84284,     0.84384,     0.84484,     0.84585,     0.84685,     0.84785,     0.84885,     0.84985,     0.85085,     0.85185,     0.85285,     0.85385,     0.85485,     0.85586,     0.85686,     0.85786,     0.85886,     0.85986,     0.86086,     0.86186,     0.86286,     0.86386,\n",
              "           0.86486,     0.86587,     0.86687,     0.86787,     0.86887,     0.86987,     0.87087,     0.87187,     0.87287,     0.87387,     0.87487,     0.87588,     0.87688,     0.87788,     0.87888,     0.87988,     0.88088,     0.88188,     0.88288,     0.88388,     0.88488,     0.88589,     0.88689,     0.88789,\n",
              "           0.88889,     0.88989,     0.89089,     0.89189,     0.89289,     0.89389,     0.89489,      0.8959,      0.8969,      0.8979,      0.8989,      0.8999,      0.9009,      0.9019,      0.9029,      0.9039,      0.9049,     0.90591,     0.90691,     0.90791,     0.90891,     0.90991,     0.91091,     0.91191,\n",
              "           0.91291,     0.91391,     0.91491,     0.91592,     0.91692,     0.91792,     0.91892,     0.91992,     0.92092,     0.92192,     0.92292,     0.92392,     0.92492,     0.92593,     0.92693,     0.92793,     0.92893,     0.92993,     0.93093,     0.93193,     0.93293,     0.93393,     0.93493,     0.93594,\n",
              "           0.93694,     0.93794,     0.93894,     0.93994,     0.94094,     0.94194,     0.94294,     0.94394,     0.94494,     0.94595,     0.94695,     0.94795,     0.94895,     0.94995,     0.95095,     0.95195,     0.95295,     0.95395,     0.95495,     0.95596,     0.95696,     0.95796,     0.95896,     0.95996,\n",
              "           0.96096,     0.96196,     0.96296,     0.96396,     0.96496,     0.96597,     0.96697,     0.96797,     0.96897,     0.96997,     0.97097,     0.97197,     0.97297,     0.97397,     0.97497,     0.97598,     0.97698,     0.97798,     0.97898,     0.97998,     0.98098,     0.98198,     0.98298,     0.98398,\n",
              "           0.98498,     0.98599,     0.98699,     0.98799,     0.98899,     0.98999,     0.99099,     0.99199,     0.99299,     0.99399,     0.99499,       0.996,       0.997,       0.998,       0.999,           1]), array([[   0.019271,    0.019295,    0.024524,    0.030506,    0.037315,    0.043569,    0.049696,    0.055313,    0.060697,    0.067287,    0.072276,    0.077087,    0.081982,    0.084583,    0.088478,    0.092721,    0.097968,     0.10218,     0.10674,      0.1094,     0.11472,     0.11892,     0.12229,\n",
              "            0.12499,     0.12752,     0.13073,      0.1339,      0.1366,     0.14182,     0.14516,     0.14944,     0.15429,     0.15674,     0.15908,     0.16198,     0.16433,     0.16604,     0.16912,     0.17197,     0.17277,     0.17309,     0.17565,     0.17816,     0.17719,     0.17811,     0.18253,\n",
              "            0.18662,     0.18951,     0.19311,     0.19467,     0.19782,     0.19957,     0.20376,     0.20703,     0.20904,     0.21093,     0.21307,     0.21513,     0.21923,     0.22119,     0.22299,      0.2244,     0.22656,     0.22835,     0.23112,      0.2322,     0.23467,     0.23813,     0.24113,\n",
              "            0.23945,     0.24074,     0.24334,     0.24592,     0.24655,     0.24803,     0.25012,     0.25345,     0.25672,     0.25837,     0.25884,      0.2633,     0.26632,      0.2664,     0.26796,     0.26721,     0.26722,     0.26877,     0.26893,     0.26967,     0.27132,     0.27474,     0.27479,\n",
              "            0.27799,     0.28073,     0.28009,     0.28163,     0.28248,     0.28315,     0.28452,     0.28512,     0.28376,     0.28434,     0.28584,     0.28657,      0.2872,     0.28811,     0.28864,     0.28687,     0.29063,     0.29273,     0.29654,     0.29884,     0.30001,      0.3034,     0.30476,\n",
              "            0.30572,      0.3071,     0.30788,     0.30854,     0.30916,     0.30882,     0.30962,     0.31084,     0.31274,     0.31477,     0.31743,     0.32091,     0.32148,     0.32058,     0.32052,     0.32587,     0.32782,      0.3322,     0.33432,      0.3359,     0.33619,     0.33648,     0.33677,\n",
              "              0.338,     0.33946,     0.33957,     0.34144,     0.34221,      0.3428,     0.34338,     0.34414,     0.34605,     0.34761,     0.34955,     0.35065,     0.35238,      0.3504,     0.35094,     0.35147,     0.35378,     0.35582,      0.3565,     0.35717,     0.35762,     0.35806,     0.35851,\n",
              "            0.35972,     0.35814,     0.36006,      0.3636,     0.36407,     0.36454,     0.36523,     0.36611,     0.36824,     0.36881,     0.36967,     0.36568,     0.36772,     0.36888,     0.36956,     0.36761,     0.36669,     0.36772,     0.36906,     0.37047,      0.3698,      0.3677,     0.36903,\n",
              "            0.36974,     0.37045,     0.37094,     0.37139,     0.37184,     0.37242,      0.3734,     0.37531,     0.38159,     0.38628,     0.39038,     0.39161,     0.39204,     0.39246,     0.39288,     0.39331,     0.39791,      0.3981,      0.3997,     0.40187,     0.40066,     0.39945,     0.40074,\n",
              "             0.4055,     0.40726,     0.40937,     0.41018,     0.41099,     0.40996,     0.40842,     0.40869,     0.40933,     0.40997,     0.41068,     0.41147,     0.41226,     0.41371,     0.41411,      0.4145,      0.4149,      0.4153,     0.41569,     0.41529,     0.41464,     0.41399,     0.41334,\n",
              "             0.4127,     0.41323,     0.41376,     0.41429,     0.41482,     0.41576,     0.41677,     0.41611,      0.4146,     0.41579,     0.41691,     0.41772,     0.41856,     0.42013,     0.42012,     0.41903,     0.41795,     0.41466,      0.4151,     0.41588,       0.419,     0.42061,     0.42157,\n",
              "            0.42198,     0.42238,     0.42279,      0.4232,      0.4236,       0.426,     0.43116,     0.43169,     0.43223,     0.43277,     0.43331,     0.43377,     0.43418,      0.4346,     0.43501,     0.43542,     0.43584,     0.43493,      0.4328,     0.43454,     0.43709,     0.43572,     0.43498,\n",
              "            0.44276,     0.44361,     0.44446,     0.44554,     0.44741,     0.44836,     0.44903,     0.44969,     0.45036,     0.44774,      0.4476,     0.44804,     0.44848,     0.44892,     0.44936,      0.4498,      0.4521,     0.45378,     0.45496,     0.45633,     0.45803,      0.4594,     0.46061,\n",
              "            0.46108,     0.45904,     0.45557,     0.45592,     0.45785,     0.46084,     0.46173,     0.46262,     0.46352,     0.46752,     0.46844,     0.46936,     0.47221,     0.47074,     0.47264,     0.47312,      0.4736,     0.47407,     0.47455,     0.47503,      0.4755,     0.47461,     0.47398,\n",
              "            0.47596,     0.47677,     0.47758,     0.47839,     0.48026,     0.48013,     0.48101,     0.48091,     0.47937,     0.47883,     0.48087,     0.48126,     0.48039,     0.47952,     0.47865,     0.47859,     0.48191,     0.48401,      0.4856,     0.48667,     0.48774,     0.48903,     0.49235,\n",
              "            0.49163,      0.4909,     0.49018,     0.48946,     0.48874,     0.49018,     0.49609,      0.4952,      0.4943,      0.4934,     0.49251,     0.49273,     0.49356,      0.4944,     0.49523,     0.49607,     0.49723,     0.49838,     0.49953,     0.50065,     0.50174,     0.50284,     0.50393,\n",
              "            0.50446,     0.50495,     0.50544,     0.50593,     0.50642,     0.50691,      0.5074,     0.50789,     0.51079,     0.51324,      0.5148,     0.51637,     0.51666,     0.51555,     0.51444,     0.51333,     0.52196,     0.52363,     0.52531,     0.52641,     0.52722,     0.52804,     0.52885,\n",
              "            0.52967,     0.53071,     0.53519,     0.53649,     0.53778,     0.53908,     0.54013,     0.54087,      0.5416,     0.54233,     0.54306,     0.54379,     0.54453,     0.54675,     0.54927,     0.55051,     0.55158,     0.55266,     0.55374,     0.55587,     0.55973,     0.56007,     0.56041,\n",
              "            0.56076,      0.5611,     0.56144,     0.56178,     0.56213,     0.56247,     0.56281,     0.56316,      0.5635,     0.56384,     0.56418,     0.56453,      0.5651,      0.5669,      0.5687,     0.57052,     0.57235,     0.57419,      0.5797,     0.57642,     0.57489,     0.57336,     0.57189,\n",
              "            0.57046,     0.56903,       0.569,     0.56953,     0.57005,     0.57058,      0.5711,     0.57163,     0.57215,     0.57268,      0.5732,     0.57373,     0.57425,     0.58585,     0.58529,     0.58473,     0.58418,     0.58362,     0.58306,      0.5825,     0.58194,     0.58064,     0.57843,\n",
              "            0.57676,     0.57563,      0.5745,     0.57337,     0.57154,     0.56924,     0.57042,     0.57352,     0.57487,     0.57544,     0.57602,     0.57659,     0.57717,     0.57775,     0.57832,      0.5789,     0.57947,     0.58005,     0.58062,     0.58103,     0.58144,     0.58184,     0.58225,\n",
              "            0.58265,     0.58306,     0.58346,     0.58386,     0.58427,     0.58467,     0.58508,     0.58548,     0.58589,     0.58629,      0.5867,     0.58774,     0.58994,     0.59214,     0.59629,     0.59792,      0.5957,     0.59611,     0.59652,     0.59692,     0.59733,     0.59774,     0.59815,\n",
              "            0.59856,     0.59896,     0.59937,     0.59978,     0.60019,      0.6006,       0.601,     0.60141,     0.60182,     0.60223,     0.59557,     0.59317,     0.59541,     0.59878,     0.60242,       0.603,     0.60358,     0.60415,     0.60473,     0.60531,     0.60589,     0.60647,     0.60705,\n",
              "            0.60763,     0.60821,     0.60879,     0.60937,     0.61012,     0.61122,     0.61232,     0.61343,     0.61453,     0.61563,     0.61673,     0.61687,     0.61606,     0.61524,     0.61442,     0.61361,     0.61279,     0.61336,     0.61468,     0.61601,     0.61733,     0.61866,     0.61998,\n",
              "            0.61972,     0.61906,     0.61839,     0.61773,     0.61706,      0.6164,     0.61573,     0.61929,     0.62443,     0.62653,     0.62863,     0.63074,     0.63416,     0.63848,      0.6516,     0.65615,      0.6689,     0.67211,     0.67532,     0.68368,     0.68976,     0.69485,     0.69436,\n",
              "            0.69283,      0.6913,     0.68685,      0.6888,     0.69117,     0.69354,     0.69591,     0.70439,     0.70667,     0.70896,     0.71125,     0.71354,     0.71383,     0.71316,     0.71248,     0.71181,     0.71113,     0.71046,     0.70978,     0.71024,      0.7109,     0.71156,     0.71222,\n",
              "            0.71289,     0.71355,     0.71421,     0.71487,     0.71554,      0.7162,     0.71686,     0.71752,     0.71819,     0.71885,     0.71951,     0.72017,     0.72084,     0.72122,     0.72088,     0.72054,     0.72019,     0.71985,     0.71951,     0.71917,     0.71883,     0.71849,     0.71815,\n",
              "            0.71781,     0.71747,     0.71713,     0.71679,     0.71778,     0.71956,     0.72134,     0.72311,     0.72489,     0.72667,     0.72845,     0.73291,     0.73807,     0.74175,     0.74277,      0.7438,     0.74482,     0.74585,     0.74687,      0.7479,     0.74892,     0.74995,     0.75098,\n",
              "              0.752,     0.75303,     0.75405,     0.75392,     0.75323,     0.75254,     0.75184,     0.75115,     0.75046,     0.75052,     0.75207,     0.75362,     0.75518,     0.75673,     0.75828,     0.75984,     0.76139,     0.76294,     0.75924,     0.75889,     0.75855,      0.7582,     0.75786,\n",
              "            0.75751,     0.75717,     0.75682,     0.75648,     0.75613,     0.75579,     0.75544,      0.7551,     0.75475,     0.75039,     0.74868,     0.74725,     0.74581,     0.74112,     0.74333,     0.74554,     0.74775,     0.74996,     0.75217,     0.75438,     0.75576,     0.75674,     0.75772,\n",
              "            0.75869,     0.75967,     0.76065,     0.76163,      0.7626,     0.76358,     0.76456,     0.76553,     0.76651,     0.76749,     0.76847,     0.76944,     0.77042,     0.77142,     0.77244,     0.77346,     0.77448,      0.7755,     0.77652,     0.77754,     0.77855,     0.77957,     0.78059,\n",
              "            0.78161,     0.78263,     0.78365,     0.78467,     0.78569,     0.78671,     0.78678,     0.78583,     0.78488,     0.78393,     0.78299,     0.78218,     0.78147,     0.78077,     0.78006,     0.77935,     0.77865,     0.77794,     0.77759,     0.77735,     0.77711,     0.77687,     0.77663,\n",
              "            0.77639,     0.77615,     0.77591,     0.77567,     0.77542,     0.77518,     0.77494,      0.7747,     0.77446,     0.77422,     0.77398,     0.77374,      0.7735,     0.77326,     0.77302,     0.77278,     0.77186,     0.77078,     0.76969,     0.76861,     0.76753,     0.76396,     0.76481,\n",
              "            0.77116,     0.77751,     0.77483,     0.77451,     0.77419,     0.77387,     0.77355,     0.77323,     0.77291,     0.77259,     0.77227,     0.77195,     0.77163,     0.77131,     0.77099,     0.77067,     0.77036,     0.77004,     0.76972,      0.7694,     0.76873,     0.76769,     0.76666,\n",
              "            0.76562,     0.76458,     0.76354,     0.76041,     0.75664,     0.75595,     0.75526,     0.75456,     0.75387,     0.75318,     0.75249,     0.75179,      0.7511,     0.75041,     0.74968,     0.74891,     0.74814,     0.74737,      0.7466,     0.74583,     0.74506,     0.74429,     0.74352,\n",
              "            0.74328,     0.74627,     0.74925,     0.75224,     0.75522,     0.75821,      0.7612,     0.76418,     0.76715,     0.77012,     0.77309,     0.77606,     0.77903,       0.782,     0.78497,     0.78791,     0.78939,     0.79088,     0.79236,     0.79385,     0.79533,     0.79682,      0.7983,\n",
              "            0.79978,     0.80127,     0.80275,     0.80424,     0.80572,     0.80721,     0.80869,     0.81018,     0.81166,     0.81173,     0.80996,     0.80819,      0.8064,     0.80375,     0.80111,     0.79952,     0.79868,     0.79785,     0.79702,     0.79619,     0.79536,     0.79453,     0.79369,\n",
              "            0.79366,      0.7956,     0.79753,     0.79947,     0.80141,     0.80334,     0.80528,     0.80721,     0.80915,     0.81108,     0.81302,     0.81495,     0.81689,     0.81883,     0.82076,     0.82109,     0.82057,     0.82004,     0.81952,       0.819,     0.81848,     0.81796,     0.81744,\n",
              "            0.81692,     0.81639,     0.81587,     0.81535,     0.81483,     0.81609,      0.8174,     0.81871,     0.82002,     0.82133,     0.82265,     0.82396,     0.82527,     0.82658,     0.82789,      0.8292,     0.83051,     0.83182,     0.83314,     0.83445,     0.83576,     0.83707,     0.83838,\n",
              "            0.83969,       0.841,     0.84231,     0.84362,     0.84494,     0.84613,     0.84576,     0.84539,     0.84501,     0.84464,     0.84427,      0.8439,     0.84353,     0.84316,     0.84279,     0.84242,     0.84205,     0.84167,      0.8413,     0.84093,     0.84056,     0.84019,     0.83213,\n",
              "            0.82965,     0.82718,     0.82495,     0.82293,      0.8209,     0.81888,     0.85665,     0.85372,     0.85079,     0.84185,     0.84079,     0.83973,     0.83868,     0.83762,     0.83656,      0.8355,     0.83444,     0.83339,     0.83978,     0.87495,      0.9325,     0.93088,     0.92925,\n",
              "            0.92807,      0.9272,     0.92633,     0.92547,      0.9246,     0.92373,     0.92283,     0.92182,     0.92081,      0.9198,     0.91879,     0.91778,     0.91677,     0.91502,     0.92936,     0.94369,     0.95803,     0.97236,      0.9867,           1,           1,           1,           1,\n",
              "                  1,           1,           1,           1,           1,           1,           1,           1,           1,           1,           1,           1,           1,           1,           1,           1,           1,           1,           1,           1,           1,           1,           1,\n",
              "                  1,           1,           1,           1,           1,           1,           1,           1,           1,           1,           1]]), 'Confidence', 'Precision'], [array([          0,    0.001001,    0.002002,    0.003003,    0.004004,    0.005005,    0.006006,    0.007007,    0.008008,    0.009009,     0.01001,    0.011011,    0.012012,    0.013013,    0.014014,    0.015015,    0.016016,    0.017017,    0.018018,    0.019019,     0.02002,    0.021021,    0.022022,    0.023023,\n",
              "          0.024024,    0.025025,    0.026026,    0.027027,    0.028028,    0.029029,     0.03003,    0.031031,    0.032032,    0.033033,    0.034034,    0.035035,    0.036036,    0.037037,    0.038038,    0.039039,     0.04004,    0.041041,    0.042042,    0.043043,    0.044044,    0.045045,    0.046046,    0.047047,\n",
              "          0.048048,    0.049049,     0.05005,    0.051051,    0.052052,    0.053053,    0.054054,    0.055055,    0.056056,    0.057057,    0.058058,    0.059059,     0.06006,    0.061061,    0.062062,    0.063063,    0.064064,    0.065065,    0.066066,    0.067067,    0.068068,    0.069069,     0.07007,    0.071071,\n",
              "          0.072072,    0.073073,    0.074074,    0.075075,    0.076076,    0.077077,    0.078078,    0.079079,     0.08008,    0.081081,    0.082082,    0.083083,    0.084084,    0.085085,    0.086086,    0.087087,    0.088088,    0.089089,     0.09009,    0.091091,    0.092092,    0.093093,    0.094094,    0.095095,\n",
              "          0.096096,    0.097097,    0.098098,    0.099099,      0.1001,      0.1011,      0.1021,      0.1031,      0.1041,     0.10511,     0.10611,     0.10711,     0.10811,     0.10911,     0.11011,     0.11111,     0.11211,     0.11311,     0.11411,     0.11512,     0.11612,     0.11712,     0.11812,     0.11912,\n",
              "           0.12012,     0.12112,     0.12212,     0.12312,     0.12412,     0.12513,     0.12613,     0.12713,     0.12813,     0.12913,     0.13013,     0.13113,     0.13213,     0.13313,     0.13413,     0.13514,     0.13614,     0.13714,     0.13814,     0.13914,     0.14014,     0.14114,     0.14214,     0.14314,\n",
              "           0.14414,     0.14515,     0.14615,     0.14715,     0.14815,     0.14915,     0.15015,     0.15115,     0.15215,     0.15315,     0.15415,     0.15516,     0.15616,     0.15716,     0.15816,     0.15916,     0.16016,     0.16116,     0.16216,     0.16316,     0.16416,     0.16517,     0.16617,     0.16717,\n",
              "           0.16817,     0.16917,     0.17017,     0.17117,     0.17217,     0.17317,     0.17417,     0.17518,     0.17618,     0.17718,     0.17818,     0.17918,     0.18018,     0.18118,     0.18218,     0.18318,     0.18418,     0.18519,     0.18619,     0.18719,     0.18819,     0.18919,     0.19019,     0.19119,\n",
              "           0.19219,     0.19319,     0.19419,      0.1952,      0.1962,      0.1972,      0.1982,      0.1992,      0.2002,      0.2012,      0.2022,      0.2032,      0.2042,     0.20521,     0.20621,     0.20721,     0.20821,     0.20921,     0.21021,     0.21121,     0.21221,     0.21321,     0.21421,     0.21522,\n",
              "           0.21622,     0.21722,     0.21822,     0.21922,     0.22022,     0.22122,     0.22222,     0.22322,     0.22422,     0.22523,     0.22623,     0.22723,     0.22823,     0.22923,     0.23023,     0.23123,     0.23223,     0.23323,     0.23423,     0.23524,     0.23624,     0.23724,     0.23824,     0.23924,\n",
              "           0.24024,     0.24124,     0.24224,     0.24324,     0.24424,     0.24525,     0.24625,     0.24725,     0.24825,     0.24925,     0.25025,     0.25125,     0.25225,     0.25325,     0.25425,     0.25526,     0.25626,     0.25726,     0.25826,     0.25926,     0.26026,     0.26126,     0.26226,     0.26326,\n",
              "           0.26426,     0.26527,     0.26627,     0.26727,     0.26827,     0.26927,     0.27027,     0.27127,     0.27227,     0.27327,     0.27427,     0.27528,     0.27628,     0.27728,     0.27828,     0.27928,     0.28028,     0.28128,     0.28228,     0.28328,     0.28428,     0.28529,     0.28629,     0.28729,\n",
              "           0.28829,     0.28929,     0.29029,     0.29129,     0.29229,     0.29329,     0.29429,      0.2953,      0.2963,      0.2973,      0.2983,      0.2993,      0.3003,      0.3013,      0.3023,      0.3033,      0.3043,     0.30531,     0.30631,     0.30731,     0.30831,     0.30931,     0.31031,     0.31131,\n",
              "           0.31231,     0.31331,     0.31431,     0.31532,     0.31632,     0.31732,     0.31832,     0.31932,     0.32032,     0.32132,     0.32232,     0.32332,     0.32432,     0.32533,     0.32633,     0.32733,     0.32833,     0.32933,     0.33033,     0.33133,     0.33233,     0.33333,     0.33433,     0.33534,\n",
              "           0.33634,     0.33734,     0.33834,     0.33934,     0.34034,     0.34134,     0.34234,     0.34334,     0.34434,     0.34535,     0.34635,     0.34735,     0.34835,     0.34935,     0.35035,     0.35135,     0.35235,     0.35335,     0.35435,     0.35536,     0.35636,     0.35736,     0.35836,     0.35936,\n",
              "           0.36036,     0.36136,     0.36236,     0.36336,     0.36436,     0.36537,     0.36637,     0.36737,     0.36837,     0.36937,     0.37037,     0.37137,     0.37237,     0.37337,     0.37437,     0.37538,     0.37638,     0.37738,     0.37838,     0.37938,     0.38038,     0.38138,     0.38238,     0.38338,\n",
              "           0.38438,     0.38539,     0.38639,     0.38739,     0.38839,     0.38939,     0.39039,     0.39139,     0.39239,     0.39339,     0.39439,      0.3954,      0.3964,      0.3974,      0.3984,      0.3994,      0.4004,      0.4014,      0.4024,      0.4034,      0.4044,     0.40541,     0.40641,     0.40741,\n",
              "           0.40841,     0.40941,     0.41041,     0.41141,     0.41241,     0.41341,     0.41441,     0.41542,     0.41642,     0.41742,     0.41842,     0.41942,     0.42042,     0.42142,     0.42242,     0.42342,     0.42442,     0.42543,     0.42643,     0.42743,     0.42843,     0.42943,     0.43043,     0.43143,\n",
              "           0.43243,     0.43343,     0.43443,     0.43544,     0.43644,     0.43744,     0.43844,     0.43944,     0.44044,     0.44144,     0.44244,     0.44344,     0.44444,     0.44545,     0.44645,     0.44745,     0.44845,     0.44945,     0.45045,     0.45145,     0.45245,     0.45345,     0.45445,     0.45546,\n",
              "           0.45646,     0.45746,     0.45846,     0.45946,     0.46046,     0.46146,     0.46246,     0.46346,     0.46446,     0.46547,     0.46647,     0.46747,     0.46847,     0.46947,     0.47047,     0.47147,     0.47247,     0.47347,     0.47447,     0.47548,     0.47648,     0.47748,     0.47848,     0.47948,\n",
              "           0.48048,     0.48148,     0.48248,     0.48348,     0.48448,     0.48549,     0.48649,     0.48749,     0.48849,     0.48949,     0.49049,     0.49149,     0.49249,     0.49349,     0.49449,      0.4955,      0.4965,      0.4975,      0.4985,      0.4995,      0.5005,      0.5015,      0.5025,      0.5035,\n",
              "            0.5045,     0.50551,     0.50651,     0.50751,     0.50851,     0.50951,     0.51051,     0.51151,     0.51251,     0.51351,     0.51451,     0.51552,     0.51652,     0.51752,     0.51852,     0.51952,     0.52052,     0.52152,     0.52252,     0.52352,     0.52452,     0.52553,     0.52653,     0.52753,\n",
              "           0.52853,     0.52953,     0.53053,     0.53153,     0.53253,     0.53353,     0.53453,     0.53554,     0.53654,     0.53754,     0.53854,     0.53954,     0.54054,     0.54154,     0.54254,     0.54354,     0.54454,     0.54555,     0.54655,     0.54755,     0.54855,     0.54955,     0.55055,     0.55155,\n",
              "           0.55255,     0.55355,     0.55455,     0.55556,     0.55656,     0.55756,     0.55856,     0.55956,     0.56056,     0.56156,     0.56256,     0.56356,     0.56456,     0.56557,     0.56657,     0.56757,     0.56857,     0.56957,     0.57057,     0.57157,     0.57257,     0.57357,     0.57457,     0.57558,\n",
              "           0.57658,     0.57758,     0.57858,     0.57958,     0.58058,     0.58158,     0.58258,     0.58358,     0.58458,     0.58559,     0.58659,     0.58759,     0.58859,     0.58959,     0.59059,     0.59159,     0.59259,     0.59359,     0.59459,      0.5956,      0.5966,      0.5976,      0.5986,      0.5996,\n",
              "            0.6006,      0.6016,      0.6026,      0.6036,      0.6046,     0.60561,     0.60661,     0.60761,     0.60861,     0.60961,     0.61061,     0.61161,     0.61261,     0.61361,     0.61461,     0.61562,     0.61662,     0.61762,     0.61862,     0.61962,     0.62062,     0.62162,     0.62262,     0.62362,\n",
              "           0.62462,     0.62563,     0.62663,     0.62763,     0.62863,     0.62963,     0.63063,     0.63163,     0.63263,     0.63363,     0.63463,     0.63564,     0.63664,     0.63764,     0.63864,     0.63964,     0.64064,     0.64164,     0.64264,     0.64364,     0.64464,     0.64565,     0.64665,     0.64765,\n",
              "           0.64865,     0.64965,     0.65065,     0.65165,     0.65265,     0.65365,     0.65465,     0.65566,     0.65666,     0.65766,     0.65866,     0.65966,     0.66066,     0.66166,     0.66266,     0.66366,     0.66466,     0.66567,     0.66667,     0.66767,     0.66867,     0.66967,     0.67067,     0.67167,\n",
              "           0.67267,     0.67367,     0.67467,     0.67568,     0.67668,     0.67768,     0.67868,     0.67968,     0.68068,     0.68168,     0.68268,     0.68368,     0.68468,     0.68569,     0.68669,     0.68769,     0.68869,     0.68969,     0.69069,     0.69169,     0.69269,     0.69369,     0.69469,      0.6957,\n",
              "            0.6967,      0.6977,      0.6987,      0.6997,      0.7007,      0.7017,      0.7027,      0.7037,      0.7047,     0.70571,     0.70671,     0.70771,     0.70871,     0.70971,     0.71071,     0.71171,     0.71271,     0.71371,     0.71471,     0.71572,     0.71672,     0.71772,     0.71872,     0.71972,\n",
              "           0.72072,     0.72172,     0.72272,     0.72372,     0.72472,     0.72573,     0.72673,     0.72773,     0.72873,     0.72973,     0.73073,     0.73173,     0.73273,     0.73373,     0.73473,     0.73574,     0.73674,     0.73774,     0.73874,     0.73974,     0.74074,     0.74174,     0.74274,     0.74374,\n",
              "           0.74474,     0.74575,     0.74675,     0.74775,     0.74875,     0.74975,     0.75075,     0.75175,     0.75275,     0.75375,     0.75475,     0.75576,     0.75676,     0.75776,     0.75876,     0.75976,     0.76076,     0.76176,     0.76276,     0.76376,     0.76476,     0.76577,     0.76677,     0.76777,\n",
              "           0.76877,     0.76977,     0.77077,     0.77177,     0.77277,     0.77377,     0.77477,     0.77578,     0.77678,     0.77778,     0.77878,     0.77978,     0.78078,     0.78178,     0.78278,     0.78378,     0.78478,     0.78579,     0.78679,     0.78779,     0.78879,     0.78979,     0.79079,     0.79179,\n",
              "           0.79279,     0.79379,     0.79479,      0.7958,      0.7968,      0.7978,      0.7988,      0.7998,      0.8008,      0.8018,      0.8028,      0.8038,      0.8048,     0.80581,     0.80681,     0.80781,     0.80881,     0.80981,     0.81081,     0.81181,     0.81281,     0.81381,     0.81481,     0.81582,\n",
              "           0.81682,     0.81782,     0.81882,     0.81982,     0.82082,     0.82182,     0.82282,     0.82382,     0.82482,     0.82583,     0.82683,     0.82783,     0.82883,     0.82983,     0.83083,     0.83183,     0.83283,     0.83383,     0.83483,     0.83584,     0.83684,     0.83784,     0.83884,     0.83984,\n",
              "           0.84084,     0.84184,     0.84284,     0.84384,     0.84484,     0.84585,     0.84685,     0.84785,     0.84885,     0.84985,     0.85085,     0.85185,     0.85285,     0.85385,     0.85485,     0.85586,     0.85686,     0.85786,     0.85886,     0.85986,     0.86086,     0.86186,     0.86286,     0.86386,\n",
              "           0.86486,     0.86587,     0.86687,     0.86787,     0.86887,     0.86987,     0.87087,     0.87187,     0.87287,     0.87387,     0.87487,     0.87588,     0.87688,     0.87788,     0.87888,     0.87988,     0.88088,     0.88188,     0.88288,     0.88388,     0.88488,     0.88589,     0.88689,     0.88789,\n",
              "           0.88889,     0.88989,     0.89089,     0.89189,     0.89289,     0.89389,     0.89489,      0.8959,      0.8969,      0.8979,      0.8989,      0.8999,      0.9009,      0.9019,      0.9029,      0.9039,      0.9049,     0.90591,     0.90691,     0.90791,     0.90891,     0.90991,     0.91091,     0.91191,\n",
              "           0.91291,     0.91391,     0.91491,     0.91592,     0.91692,     0.91792,     0.91892,     0.91992,     0.92092,     0.92192,     0.92292,     0.92392,     0.92492,     0.92593,     0.92693,     0.92793,     0.92893,     0.92993,     0.93093,     0.93193,     0.93293,     0.93393,     0.93493,     0.93594,\n",
              "           0.93694,     0.93794,     0.93894,     0.93994,     0.94094,     0.94194,     0.94294,     0.94394,     0.94494,     0.94595,     0.94695,     0.94795,     0.94895,     0.94995,     0.95095,     0.95195,     0.95295,     0.95395,     0.95495,     0.95596,     0.95696,     0.95796,     0.95896,     0.95996,\n",
              "           0.96096,     0.96196,     0.96296,     0.96396,     0.96496,     0.96597,     0.96697,     0.96797,     0.96897,     0.96997,     0.97097,     0.97197,     0.97297,     0.97397,     0.97497,     0.97598,     0.97698,     0.97798,     0.97898,     0.97998,     0.98098,     0.98198,     0.98298,     0.98398,\n",
              "           0.98498,     0.98599,     0.98699,     0.98799,     0.98899,     0.98999,     0.99099,     0.99199,     0.99299,     0.99399,     0.99499,       0.996,       0.997,       0.998,       0.999,           1]), array([[    0.92667,     0.92667,        0.92,     0.90667,     0.89333,     0.86667,     0.86667,        0.86,     0.85333,     0.85333,     0.85333,     0.85333,        0.84,        0.82,     0.81333,     0.80667,     0.80667,     0.80667,     0.80667,         0.8,         0.8,     0.79333,     0.79333,\n",
              "            0.78667,        0.78,     0.77333,     0.77333,     0.77333,     0.77333,     0.77333,     0.77333,     0.77333,     0.77333,     0.76667,     0.76667,     0.76667,        0.76,        0.76,        0.76,     0.75333,     0.74798,     0.74667,     0.74667,     0.73333,     0.73333,     0.73333,\n",
              "            0.73333,     0.73333,     0.73333,     0.72667,     0.72667,     0.72667,     0.72667,     0.72667,     0.72667,      0.7253,        0.72,        0.72,        0.72,        0.72,        0.72,        0.72,        0.72,        0.72,        0.72,        0.72,        0.72,        0.72,        0.72,\n",
              "            0.70667,     0.70667,     0.70667,     0.70667,         0.7,         0.7,         0.7,         0.7,         0.7,         0.7,     0.69333,     0.69333,     0.69333,     0.68667,     0.68667,     0.68312,        0.68,        0.68,     0.67685,     0.67333,     0.67333,     0.67333,     0.66667,\n",
              "            0.66667,     0.66667,        0.66,     0.65862,     0.65333,     0.65333,     0.64667,        0.64,     0.63333,     0.63333,     0.63333,     0.63333,     0.63333,     0.63333,     0.63333,     0.62667,     0.62667,     0.62667,     0.62667,     0.62667,     0.62667,     0.62667,     0.62667,\n",
              "            0.62667,     0.62667,     0.62667,     0.62667,     0.62667,     0.62254,        0.62,        0.62,        0.62,        0.62,        0.62,        0.62,        0.62,     0.61655,     0.61333,     0.61333,     0.61333,     0.61333,     0.61333,     0.61333,     0.61333,     0.61333,     0.61333,\n",
              "            0.61333,     0.61333,     0.60667,     0.60667,     0.60667,     0.60667,     0.60667,     0.60667,     0.60667,     0.60667,     0.60667,     0.60667,     0.60667,         0.6,         0.6,         0.6,         0.6,         0.6,         0.6,         0.6,         0.6,         0.6,         0.6,\n",
              "                0.6,     0.59333,     0.59333,     0.59333,     0.59333,     0.59333,     0.59333,     0.59333,     0.59333,     0.59333,     0.59333,        0.58,        0.58,        0.58,        0.58,     0.57333,     0.56742,     0.56667,     0.56667,     0.56667,        0.56,     0.55333,     0.55333,\n",
              "            0.55333,     0.55333,     0.55333,     0.55333,     0.55333,     0.55333,     0.55333,     0.55333,     0.55333,     0.55333,     0.55333,     0.55333,     0.55333,     0.55333,     0.55333,     0.55333,     0.55333,     0.54667,     0.54667,     0.54645,     0.54372,     0.54099,        0.54,\n",
              "               0.54,        0.54,        0.54,        0.54,        0.54,     0.53732,      0.5339,     0.53333,     0.53333,     0.53333,     0.53333,     0.53333,     0.53333,     0.52667,     0.52667,     0.52667,     0.52667,     0.52667,     0.52667,      0.5256,      0.5242,      0.5228,     0.52139,\n",
              "               0.52,        0.52,        0.52,        0.52,        0.52,        0.52,        0.52,     0.51786,     0.51465,     0.51333,     0.51333,     0.51333,     0.51333,     0.51333,     0.51199,     0.50971,     0.50743,     0.50061,         0.5,         0.5,         0.5,         0.5,         0.5,\n",
              "                0.5,         0.5,         0.5,         0.5,         0.5,         0.5,         0.5,         0.5,         0.5,         0.5,         0.5,         0.5,         0.5,         0.5,         0.5,         0.5,         0.5,     0.49775,     0.49333,     0.49333,     0.49178,     0.48905,     0.48667,\n",
              "            0.48667,     0.48667,     0.48667,     0.48667,     0.48667,     0.48667,     0.48667,     0.48667,     0.48667,     0.48105,        0.48,        0.48,        0.48,        0.48,        0.48,        0.48,        0.48,        0.48,        0.48,        0.48,        0.48,        0.48,        0.48,\n",
              "            0.47911,     0.47521,      0.4686,     0.46667,     0.46667,     0.46667,     0.46667,     0.46667,     0.46667,     0.46667,     0.46667,     0.46667,     0.46525,     0.46251,        0.46,        0.46,        0.46,        0.46,        0.46,        0.46,        0.46,     0.45771,     0.45333,\n",
              "            0.45333,     0.45333,     0.45333,     0.45333,     0.45333,     0.44948,     0.44667,     0.44471,     0.44198,        0.44,        0.44,     0.43914,     0.43762,      0.4361,     0.43458,     0.43333,     0.43333,     0.43333,     0.43333,     0.43333,     0.43333,     0.43333,      0.4332,\n",
              "            0.43196,     0.43072,     0.42947,     0.42823,     0.42699,     0.42667,     0.42662,      0.4251,     0.42358,     0.42206,     0.42054,        0.42,        0.42,        0.42,        0.42,        0.42,        0.42,        0.42,        0.42,        0.42,        0.42,        0.42,        0.42,\n",
              "               0.42,        0.42,        0.42,        0.42,        0.42,        0.42,        0.42,        0.42,        0.42,        0.42,        0.42,        0.42,     0.41332,     0.41149,     0.40967,     0.40785,     0.40667,     0.40667,     0.40667,     0.40667,     0.40667,     0.40667,     0.40667,\n",
              "            0.40667,     0.40667,     0.40667,     0.40667,     0.40667,     0.40667,     0.40667,     0.40667,     0.40667,     0.40667,     0.40667,     0.40667,     0.40667,     0.40667,     0.40667,     0.40667,     0.40667,     0.40667,     0.40667,     0.40667,     0.40667,     0.40667,     0.40667,\n",
              "            0.40667,     0.40667,     0.40667,     0.40667,     0.40667,     0.40667,     0.40667,     0.40667,     0.40667,     0.40667,     0.40667,     0.40667,     0.40667,     0.40667,     0.40667,     0.40667,     0.40667,     0.40667,     0.40459,     0.39919,      0.3967,     0.39422,     0.39186,\n",
              "            0.38959,     0.38731,     0.38667,     0.38667,     0.38667,     0.38667,     0.38667,     0.38667,     0.38667,     0.38667,     0.38667,     0.38667,     0.38667,     0.38666,     0.38578,     0.38489,     0.38401,     0.38313,     0.38225,     0.38137,     0.38048,     0.37846,     0.37505,\n",
              "            0.37248,     0.37077,     0.36906,     0.36736,     0.36463,     0.36121,        0.36,        0.36,        0.36,        0.36,        0.36,        0.36,        0.36,        0.36,        0.36,        0.36,        0.36,        0.36,        0.36,        0.36,        0.36,        0.36,        0.36,\n",
              "               0.36,        0.36,        0.36,        0.36,        0.36,        0.36,        0.36,        0.36,        0.36,        0.36,        0.36,        0.36,        0.36,        0.36,        0.36,     0.35692,     0.35333,     0.35333,     0.35333,     0.35333,     0.35333,     0.35333,     0.35333,\n",
              "            0.35333,     0.35333,     0.35333,     0.35333,     0.35333,     0.35333,     0.35333,     0.35333,     0.35333,     0.35333,     0.34362,     0.34021,     0.33358,     0.33333,     0.33333,     0.33333,     0.33333,     0.33333,     0.33333,     0.33333,     0.33333,     0.33333,     0.33333,\n",
              "            0.33333,     0.33333,     0.33333,     0.33333,     0.33333,     0.33333,     0.33333,     0.33333,     0.33333,     0.33333,     0.33333,     0.33276,     0.33162,     0.33048,     0.32935,     0.32821,     0.32707,     0.32667,     0.32667,     0.32667,     0.32667,     0.32667,     0.32667,\n",
              "            0.32594,     0.32503,     0.32412,     0.32321,      0.3223,     0.32139,     0.32048,        0.32,        0.32,        0.32,        0.32,        0.32,        0.32,        0.32,        0.32,        0.32,        0.32,        0.32,        0.32,        0.32,        0.32,        0.32,     0.31808,\n",
              "             0.3158,     0.31352,     0.30707,     0.30667,     0.30667,     0.30667,     0.30667,         0.3,         0.3,         0.3,         0.3,         0.3,     0.29934,     0.29837,     0.29739,     0.29641,     0.29544,     0.29446,     0.29349,     0.29333,     0.29333,     0.29333,     0.29333,\n",
              "            0.29333,     0.29333,     0.29333,     0.29333,     0.29333,     0.29333,     0.29333,     0.29333,     0.29333,     0.29333,     0.29333,     0.29333,     0.29333,      0.2932,     0.29271,     0.29222,     0.29173,     0.29124,     0.29075,     0.29027,     0.28978,     0.28929,      0.2888,\n",
              "            0.28831,     0.28783,     0.28734,     0.28685,     0.28667,     0.28667,     0.28667,     0.28667,     0.28667,     0.28667,     0.28667,     0.28667,     0.28667,     0.28667,     0.28667,     0.28667,     0.28667,     0.28667,     0.28667,     0.28667,     0.28667,     0.28667,     0.28667,\n",
              "            0.28667,     0.28667,     0.28667,     0.28596,     0.28491,     0.28386,      0.2828,     0.28175,      0.2807,        0.28,        0.28,        0.28,        0.28,        0.28,        0.28,        0.28,        0.28,        0.28,      0.2733,     0.27279,     0.27229,     0.27178,     0.27128,\n",
              "            0.27077,     0.27026,     0.26976,     0.26925,     0.26874,     0.26824,     0.26773,     0.26723,     0.26672,     0.26055,     0.25821,     0.25625,      0.2543,     0.24667,     0.24667,     0.24667,     0.24667,     0.24667,     0.24667,     0.24667,     0.24667,     0.24667,     0.24667,\n",
              "            0.24667,     0.24667,     0.24667,     0.24667,     0.24667,     0.24667,     0.24667,     0.24667,     0.24667,     0.24667,     0.24667,     0.24667,     0.24667,     0.24667,     0.24667,     0.24667,     0.24667,     0.24667,     0.24667,     0.24667,     0.24667,     0.24667,     0.24667,\n",
              "            0.24667,     0.24667,     0.24667,     0.24667,     0.24667,     0.24667,     0.24601,     0.24464,     0.24328,     0.24191,     0.24054,     0.23941,     0.23844,     0.23746,     0.23648,     0.23551,     0.23453,     0.23355,     0.23309,     0.23277,     0.23245,     0.23213,     0.23182,\n",
              "             0.2315,     0.23118,     0.23086,     0.23054,     0.23023,     0.22991,     0.22959,     0.22927,     0.22896,     0.22864,     0.22832,       0.228,     0.22768,     0.22737,     0.22705,     0.22673,     0.22557,     0.22421,     0.22284,     0.22147,     0.22011,      0.2158,     0.21333,\n",
              "            0.21333,     0.21333,     0.20647,      0.2061,     0.20573,     0.20536,     0.20499,     0.20462,     0.20425,     0.20388,     0.20352,     0.20315,     0.20278,     0.20241,     0.20204,     0.20167,      0.2013,     0.20093,     0.20056,     0.20019,     0.19945,     0.19831,     0.19717,\n",
              "            0.19603,     0.19489,     0.19376,     0.19047,     0.18655,     0.18587,     0.18519,      0.1845,     0.18382,     0.18314,     0.18245,     0.18177,     0.18109,      0.1804,     0.17971,     0.17899,     0.17827,     0.17755,     0.17683,     0.17611,     0.17539,     0.17467,     0.17395,\n",
              "            0.17333,     0.17333,     0.17333,     0.17333,     0.17333,     0.17333,     0.17333,     0.17333,     0.17333,     0.17333,     0.17333,     0.17333,     0.17333,     0.17333,     0.17333,     0.17333,     0.17333,     0.17333,     0.17333,     0.17333,     0.17333,     0.17333,     0.17333,\n",
              "            0.17333,     0.17333,     0.17333,     0.17333,     0.17333,     0.17333,     0.17333,     0.17333,     0.17333,     0.17248,     0.17053,     0.16858,     0.16661,     0.16388,     0.16114,     0.15953,     0.15873,     0.15792,     0.15712,     0.15632,     0.15551,     0.15471,      0.1539,\n",
              "            0.15333,     0.15333,     0.15333,     0.15333,     0.15333,     0.15333,     0.15333,     0.15333,     0.15333,     0.15333,     0.15333,     0.15333,     0.15333,     0.15333,     0.15333,     0.15299,     0.15246,     0.15194,     0.15141,     0.15089,     0.15036,     0.14983,     0.14931,\n",
              "            0.14878,     0.14826,     0.14773,     0.14721,     0.14668,     0.14667,     0.14667,     0.14667,     0.14667,     0.14667,     0.14667,     0.14667,     0.14667,     0.14667,     0.14667,     0.14667,     0.14667,     0.14667,     0.14667,     0.14667,     0.14667,     0.14667,     0.14667,\n",
              "            0.14667,     0.14667,     0.14667,     0.14667,     0.14667,     0.14664,     0.14624,     0.14583,     0.14543,     0.14503,     0.14463,     0.14423,     0.14382,     0.14342,     0.14302,     0.14262,     0.14222,     0.14181,     0.14141,     0.14101,     0.14061,     0.14021,     0.13223,\n",
              "            0.12995,     0.12767,     0.12571,       0.124,     0.12229,     0.12059,     0.11954,      0.1168,     0.11407,     0.10647,     0.10567,     0.10486,     0.10406,     0.10326,     0.10245,     0.10165,     0.10084,     0.10004,    0.093333,    0.093333,     0.09217,    0.089892,    0.087614,\n",
              "           0.086053,    0.085001,     0.08395,    0.082899,    0.081847,    0.080796,    0.079745,    0.078694,    0.077642,    0.076591,     0.07554,    0.074488,    0.073437,    0.066667,    0.066667,    0.066667,    0.066667,    0.066667,    0.066667,    0.066502,    0.064224,    0.061946,    0.059751,\n",
              "           0.058043,    0.056335,    0.054626,    0.053248,    0.052898,    0.052547,    0.052197,    0.051846,    0.051496,    0.051146,    0.050795,    0.050445,    0.050094,    0.049744,    0.049393,    0.049043,    0.048692,    0.048342,    0.047992,    0.047641,    0.047291,     0.04694,    0.046453,\n",
              "           0.045476,      0.0445,    0.043524,    0.042548,    0.041572,    0.040595,    0.034668,     0.02525,    0.021834,    0.016834,           0]]), 'Confidence', 'Recall']]\n",
              "fitness: np.float64(0.27204724387970597)\n",
              "keys: ['metrics/precision(B)', 'metrics/recall(B)', 'metrics/mAP50(B)', 'metrics/mAP50-95(B)']\n",
              "maps: array([    0.25124])\n",
              "names: {0: 'Weed'}\n",
              "plot: True\n",
              "results_dict: {'metrics/precision(B)': np.float64(0.553741098311985), 'metrics/recall(B)': np.float64(0.4066666666666667), 'metrics/mAP50(B)': np.float64(0.4593282478857151), 'metrics/mAP50-95(B)': np.float64(0.25123824343459383), 'fitness': np.float64(0.27204724387970597)}\n",
              "save_dir: PosixPath('/content/drive/MyDrive/yolov10_outputs/finetune_yolov10/finetune_yolov105')\n",
              "speed: {'preprocess': 0.20950669230993904, 'inference': 11.553743461540295, 'loss': 0.0005523333339414631, 'postprocess': 0.12829992307708893}\n",
              "task: 'detect'"
            ]
          },
          "execution_count": 10,
          "metadata": {},
          "output_type": "execute_result"
        }
      ],
      "source": [
        "from google.colab import drive\n",
        "import os\n",
        "from ultralytics import YOLO\n",
        "\n",
        "# # Mount Google Drive\n",
        "# drive.mount('/content/drive')\n",
        "\n",
        "# Define output directory in Google Drive\n",
        "output_dir = \"/content/drive/MyDrive/yolov10_outputs/finetune_yolov10\"\n",
        "os.makedirs(output_dir, exist_ok=True)\n",
        "\n",
        "# Load YOLOv12 model (change to your exact .pt if different)\n",
        "model = YOLO(\"/content/best (8).pt\")\n",
        "\n",
        "# Train on your custom dataset\n",
        "model.train(\n",
        "    data=\"/content/weed-mini-SG-2/data.yaml\",  # Path to your data.yaml\n",
        "    epochs=10,\n",
        "    batch=16,\n",
        "    imgsz=640,\n",
        "    device=0,                  # Use 0 for GPU, 'cpu' otherwise\n",
        "    workers=4,\n",
        "    name=\"finetune_yolov10\",\n",
        "    lr0=0.0005,\n",
        "    project=output_dir,\n",
        "    augment=True,\n",
        ")\n"
      ]
    },
    {
      "cell_type": "code",
      "execution_count": null,
      "metadata": {},
      "outputs": [],
      "source": []
    }
  ],
  "metadata": {
    "accelerator": "GPU",
    "colab": {
      "gpuType": "T4",
      "provenance": []
    },
    "kernelspec": {
      "display_name": "Python 3",
      "name": "python3"
    },
    "language_info": {
      "codemirror_mode": {
        "name": "ipython",
        "version": 3
      },
      "file_extension": ".py",
      "mimetype": "text/x-python",
      "name": "python",
      "nbconvert_exporter": "python",
      "pygments_lexer": "ipython3",
      "version": "3.10.17"
    }
  },
  "nbformat": 4,
  "nbformat_minor": 0
}
